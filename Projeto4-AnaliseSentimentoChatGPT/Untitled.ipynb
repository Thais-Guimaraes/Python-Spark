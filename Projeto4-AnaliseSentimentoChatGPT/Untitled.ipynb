{
 "cells": [
  {
   "cell_type": "code",
   "execution_count": 5,
   "id": "98fb13c2",
   "metadata": {},
   "outputs": [],
   "source": [
    "import findspark\n",
    "findspark.init()\n",
    "\n",
    "from pyspark.sql import SparkSession\n",
    "from pyspark.sql import functions as F\n",
    "from pyspark.sql.functions import format_number as fmt\n",
    "from pyspark.sql.functions import udf\n",
    "from pyspark.sql.types import *\n",
    "\n",
    "from pyspark.ml.feature import Tokenizer,StopWordsRemover,Word2Vec\n",
    "from pyspark.ml import PipelineModel\n",
    "from pyspark.ml.evaluation import BinaryClassificationEvaluator\n",
    "\n",
    "import re\n",
    "import numpy as np\n",
    "import pandas as pd\n",
    "from nltk.sentiment.vader import SentimentIntensityAnalyzer\n",
    "import nltk\n",
    "#import folium\n",
    "from os import path, getcwd\n",
    "from PIL import Image\n",
    "#from wordcloud import WordCloud, STOPWORDS\n",
    "import matplotlib.pyplot as plt\n",
    "import seaborn as sns\n",
    "%matplotlib inline "
   ]
  },
  {
   "cell_type": "code",
   "execution_count": 6,
   "id": "18acf62d",
   "metadata": {},
   "outputs": [],
   "source": [
    "def removePattern(inputText, pattern):\n",
    "    r = re.findall(pattern, inputText)\n",
    "    for i in r:\n",
    "        inputText = re.sub(i, '', inputText)        \n",
    "    return inputText\n",
    "\n",
    "def cleanTweet(txt):\n",
    "    '''\n",
    "    Remove twitter return handles (RT @xxx:)\n",
    "    '''\n",
    "    txt = removePattern(txt, 'RT @[\\w]*:')\n",
    "    '''\n",
    "    Remove twitter handles (@xxx)\n",
    "    '''\n",
    "    txt = removePattern(txt, '@[\\w]*')\n",
    "    '''\n",
    "    Remove URL links (httpxxx)\n",
    "    '''\n",
    "    txt = removePattern(txt, 'https?://[A-Za-z0-9./]*')\n",
    "    '''\n",
    "    Remove special characters, numbers, punctuations\n",
    "    '''\n",
    "    txt = re.sub('[^A-Za-z]+', ' ', txt)\n",
    "    return txt\n",
    "\n",
    "def getCleanTweetText(filteredTweetText):\n",
    "    return ' '.join(filteredTweetText)\n",
    "\n",
    "def getSentimentScore(tweetText):\n",
    "    analyzer = SentimentIntensityAnalyzer()\n",
    "    vs = analyzer.polarity_scores(tweetText)\n",
    "    return float(vs['compound'])\n",
    "\n",
    "def getSentiment(score):\n",
    "    return 1 if score > 0 else 0\n",
    "\n",
    "\n",
    "def getTweetArray(tweet):\n",
    "    return tweet.split(' ')"
   ]
  },
  {
   "cell_type": "code",
   "execution_count": 9,
   "id": "57fe7c0e",
   "metadata": {},
   "outputs": [
    {
     "ename": "NameError",
     "evalue": "name 'SparkContext' is not defined",
     "output_type": "error",
     "traceback": [
      "\u001b[1;31m---------------------------------------------------------------------------\u001b[0m",
      "\u001b[1;31mNameError\u001b[0m                                 Traceback (most recent call last)",
      "\u001b[1;32m~\\AppData\\Local\\Temp\\ipykernel_9340\\1082708171.py\u001b[0m in \u001b[0;36m<module>\u001b[1;34m\u001b[0m\n\u001b[1;32m----> 1\u001b[1;33m \u001b[0msc2\u001b[0m \u001b[1;33m=\u001b[0m \u001b[0mSparkContext\u001b[0m\u001b[1;33m(\u001b[0m\u001b[0mappName\u001b[0m \u001b[1;33m=\u001b[0m \u001b[1;34m'untitled'\u001b[0m\u001b[1;33m)\u001b[0m\u001b[1;33m\u001b[0m\u001b[1;33m\u001b[0m\u001b[0m\n\u001b[0m",
      "\u001b[1;31mNameError\u001b[0m: name 'SparkContext' is not defined"
     ]
    }
   ],
   "source": [
    "sc2 = SparkContext(appName = 'untitled')"
   ]
  },
  {
   "cell_type": "code",
   "execution_count": null,
   "id": "f89883bf",
   "metadata": {},
   "outputs": [],
   "source": [
    "spSession = SparkSession.builder.master(\"local[1]\").getOrCreate()"
   ]
  },
  {
   "cell_type": "code",
   "execution_count": 7,
   "id": "421c4498",
   "metadata": {},
   "outputs": [
    {
     "ename": "NameError",
     "evalue": "name 'spSession' is not defined",
     "output_type": "error",
     "traceback": [
      "\u001b[1;31m---------------------------------------------------------------------------\u001b[0m",
      "\u001b[1;31mNameError\u001b[0m                                 Traceback (most recent call last)",
      "\u001b[1;32m~\\AppData\\Local\\Temp\\ipykernel_9340\\3258829299.py\u001b[0m in \u001b[0;36m<module>\u001b[1;34m\u001b[0m\n\u001b[1;32m----> 1\u001b[1;33m dados = (spSession.read\n\u001b[0m\u001b[0;32m      2\u001b[0m       \u001b[1;33m.\u001b[0m\u001b[0moption\u001b[0m\u001b[1;33m(\u001b[0m\u001b[1;34m\"multiline\"\u001b[0m\u001b[1;33m,\u001b[0m \u001b[1;34m\"true\"\u001b[0m\u001b[1;33m)\u001b[0m \u001b[1;31m# alguns registros estão em mais de uma linha\u001b[0m\u001b[1;33m\u001b[0m\u001b[1;33m\u001b[0m\u001b[0m\n\u001b[0;32m      3\u001b[0m       \u001b[1;33m.\u001b[0m\u001b[0moption\u001b[0m\u001b[1;33m(\u001b[0m\u001b[1;34m\"quote\"\u001b[0m\u001b[1;33m,\u001b[0m \u001b[1;34m'\"'\u001b[0m\u001b[1;33m)\u001b[0m \u001b[1;31m# informando que temos as aspas para separar o texto (q tem virgula dentro) para nao impactar o delimitador\u001b[0m\u001b[1;33m\u001b[0m\u001b[1;33m\u001b[0m\u001b[0m\n\u001b[0;32m      4\u001b[0m       \u001b[1;33m.\u001b[0m\u001b[0moption\u001b[0m\u001b[1;33m(\u001b[0m\u001b[1;34m\"header\"\u001b[0m\u001b[1;33m,\u001b[0m \u001b[1;34m\"true\"\u001b[0m\u001b[1;33m)\u001b[0m\u001b[1;33m\u001b[0m\u001b[1;33m\u001b[0m\u001b[0m\n\u001b[0;32m      5\u001b[0m       \u001b[1;33m.\u001b[0m\u001b[0moption\u001b[0m\u001b[1;33m(\u001b[0m\u001b[1;34m\"escape\"\u001b[0m\u001b[1;33m,\u001b[0m \u001b[1;34m'\"'\u001b[0m\u001b[1;33m)\u001b[0m \u001b[1;31m# separando caracteres especiais\u001b[0m\u001b[1;33m\u001b[0m\u001b[1;33m\u001b[0m\u001b[0m\n",
      "\u001b[1;31mNameError\u001b[0m: name 'spSession' is not defined"
     ]
    }
   ],
   "source": [
    "dados = (spSession.read\n",
    "      .option(\"multiline\", \"true\") # alguns registros estão em mais de uma linha\n",
    "      .option(\"quote\", '\"') # informando que temos as aspas para separar o texto (q tem virgula dentro) para nao impactar o delimitador\n",
    "      .option(\"header\", \"true\") \n",
    "      .option(\"escape\", '\"') # separando caracteres especiais\n",
    "      .csv('dados/pandas_v2.csv')\n",
    ")"
   ]
  },
  {
   "cell_type": "code",
   "execution_count": null,
   "id": "d191e084",
   "metadata": {},
   "outputs": [],
   "source": [
    "udfCleanTweet = udf(cleanTweet, StringType())\n",
    "dfCleanTweet=df.withColumn('cleanTweetText', udfCleanTweet('text'))\n",
    "dfCleanTweet.select('text','cleanTweetText').show(5)"
   ]
  },
  {
   "cell_type": "code",
   "execution_count": 23,
   "id": "f7789f10",
   "metadata": {},
   "outputs": [],
   "source": [
    "score = -0.04\n",
    "\n",
    "if score>=0.05:\n",
    "    teste =1\n",
    "elif -0.05 < score < 0.05:\n",
    "    teste =0\n",
    "elif score <= -0.05:\n",
    "    teste =2"
   ]
  },
  {
   "cell_type": "code",
   "execution_count": 24,
   "id": "cf002132",
   "metadata": {},
   "outputs": [
    {
     "data": {
      "text/plain": [
       "0"
      ]
     },
     "execution_count": 24,
     "metadata": {},
     "output_type": "execute_result"
    }
   ],
   "source": [
    "teste"
   ]
  },
  {
   "cell_type": "code",
   "execution_count": null,
   "id": "71e4d82c",
   "metadata": {},
   "outputs": [],
   "source": []
  }
 ],
 "metadata": {
  "kernelspec": {
   "display_name": "Python 3 (ipykernel)",
   "language": "python",
   "name": "python3"
  },
  "language_info": {
   "codemirror_mode": {
    "name": "ipython",
    "version": 3
   },
   "file_extension": ".py",
   "mimetype": "text/x-python",
   "name": "python",
   "nbconvert_exporter": "python",
   "pygments_lexer": "ipython3",
   "version": "3.9.7"
  }
 },
 "nbformat": 4,
 "nbformat_minor": 5
}
