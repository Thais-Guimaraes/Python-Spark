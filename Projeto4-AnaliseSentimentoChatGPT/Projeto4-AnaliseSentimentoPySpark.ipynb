{
 "cells": [
  {
   "cell_type": "markdown",
   "id": "2f9293b0",
   "metadata": {},
   "source": [
    "# <font color = 'purple'> Análise de Sentimentos em Tweets sobre o ChatGPT com PySpark </font>"
   ]
  },
  {
   "cell_type": "markdown",
   "id": "f7751387",
   "metadata": {},
   "source": [
    "Análise de sentimento é realizado em textos para determinar se o que está sendo dito é positivo, negativo ou neutro.\n",
    "Sendo útil para averiguar comentários a respeito de algum serviço ou produto, ou mesmo analisar textos em redes sociais.\n",
    "Este projeto tem como objetivo realizar análise de sentimento sobre o ChatGPT, será utilizado pyspark, pandas, numpy, google translator, a ferramenta de análise de sentimentos chamada: Vader Sentiment Analysis e a biblioteca matplotlib para exibir o resultado em um gráfico.\n",
    "\n",
    "O conjunto de dados utilizado pode ser encontrado em: https://www.kaggle.com/datasets/tariqsays/chatgpt-twitter-dataset\n",
    "\n",
    "Como o conjunto de dados não possui as classificações para os tweets, teremos que utilizar uma ferramenta que não necessita de \n",
    "treinamento, por isso, escolhi utilizar VADER (Valence Aware Dictionary for sEntiment Reasoning), que utiliza dicionário léxico para realizar as análises de sentimento. E funciona bem em textos de redes socias.\n",
    "\n",
    "Léxico significa - conjunto das palavras e expressões de uma língua\n",
    "\n",
    "Além de utilizar um dicionário léxico, também realiza as análises baseados nestas 5 características:\n",
    "\n",
    "Pontuação do texto <br>\n",
    "Considera se o texto está em maiúsculo ou minuscúlo <br>\n",
    "Considera os advérbios <br>\n",
    "A palavra \"but\" (mas) em português <br>\n",
    "Tri - grama de palavras negativas\n",
    "\n",
    "Irei traduzir os tweets que não estão em inglês para o inglês\n",
    "\n",
    "Como considera \"but\" e outras stop words, irei realizar a análise com e sem stop words para verificar se o resultado é semelhante ou diferente."
   ]
  },
  {
   "cell_type": "code",
   "execution_count": 2,
   "id": "47947c3e",
   "metadata": {},
   "outputs": [],
   "source": [
    "# Instalação do google translator\n",
    "# !pip install googletrans==3.1.0a0"
   ]
  },
  {
   "cell_type": "code",
   "execution_count": 3,
   "id": "64cfdde3",
   "metadata": {},
   "outputs": [],
   "source": [
    "# nltk.download('all')"
   ]
  },
  {
   "cell_type": "code",
   "execution_count": 1,
   "id": "3b8659d0",
   "metadata": {},
   "outputs": [],
   "source": [
    "# Importações\n",
    "\n",
    "import pandas as pd\n",
    "import numpy as np\n",
    "import seaborn as sns\n",
    "import matplotlib.pyplot as plt\n",
    "\n",
    "import findspark\n",
    "findspark.init()\n",
    "from pyspark import SparkContext\n",
    "from pyspark.sql import SparkSession\n",
    "from pyspark.sql.types import IntegerType\n",
    "from pyspark.sql.types import StringType\n",
    "from pyspark.sql.types import FloatType\n",
    "from pyspark.ml.feature import Tokenizer, RegexTokenizer\n",
    "from pyspark.sql.functions import col, udf\n",
    "from pyspark.ml.feature import StopWordsRemover\n",
    "import pyspark.sql.functions as F\n",
    "from pyspark.sql.functions import udf, col, concat_ws\n",
    "\n",
    "import googletrans\n",
    "from googletrans import Translator\n",
    "\n",
    "import nltk\n",
    "from nltk.sentiment.vader import SentimentIntensityAnalyzer"
   ]
  },
  {
   "cell_type": "code",
   "execution_count": 2,
   "id": "86797263",
   "metadata": {},
   "outputs": [],
   "source": [
    "# Ajustando variáveis de ambiente\n",
    "import os\n",
    "import sys\n",
    "os.environ['PYSPARK_PYTHON'] = sys.executable\n",
    "os.environ['PYSPARK_DRIVER_PYTHON'] = sys.executable"
   ]
  },
  {
   "cell_type": "code",
   "execution_count": 3,
   "id": "a996aee0",
   "metadata": {},
   "outputs": [],
   "source": [
    "# Criando o spark context\n",
    "sc = SparkContext(appName = 'Projeto4-AnaliseSentimentoPySpark')"
   ]
  },
  {
   "cell_type": "code",
   "execution_count": 4,
   "id": "2a3df280",
   "metadata": {},
   "outputs": [],
   "source": [
    "# Exibir logs apenas do tipo erro\n",
    "sc.setLogLevel(\"Error\")"
   ]
  },
  {
   "cell_type": "code",
   "execution_count": 5,
   "id": "e98ac974",
   "metadata": {},
   "outputs": [],
   "source": [
    "# Criando a sessão spark\n",
    "spSession = SparkSession.builder.master(\"local[1]\").getOrCreate()"
   ]
  },
  {
   "cell_type": "code",
   "execution_count": 6,
   "id": "04b143e0",
   "metadata": {},
   "outputs": [],
   "source": [
    "# Importando os dados\n",
    "dados = (spSession.read\n",
    "      .option(\"multiline\", \"true\") # alguns registros estão em mais de uma linha\n",
    "      .option(\"quote\", '\"') # informando que temos as aspas para separar o texto (q tem virgula dentro) para nao impactar o delimitador\n",
    "      .option(\"header\", \"true\") \n",
    "      .option(\"escape\", '\"') # separando caracteres especiais\n",
    "      .csv('dados/chatgpt1.csv')\n",
    ")"
   ]
  },
  {
   "cell_type": "code",
   "execution_count": 7,
   "id": "e46a8d19",
   "metadata": {},
   "outputs": [
    {
     "data": {
      "text/plain": [
       "pyspark.sql.dataframe.DataFrame"
      ]
     },
     "execution_count": 7,
     "metadata": {},
     "output_type": "execute_result"
    }
   ],
   "source": [
    "# O objeto \"dados\" é do tipo dataframe spark\n",
    "type(dados)"
   ]
  },
  {
   "cell_type": "code",
   "execution_count": 8,
   "id": "275cfb6f",
   "metadata": {},
   "outputs": [
    {
     "data": {
      "text/plain": [
       "['Datetime',\n",
       " 'Tweet Id',\n",
       " 'Text',\n",
       " 'Username',\n",
       " 'Permalink',\n",
       " 'User',\n",
       " 'Outlinks',\n",
       " 'CountLinks',\n",
       " 'ReplyCount',\n",
       " 'RetweetCount',\n",
       " 'LikeCount',\n",
       " 'QuoteCount',\n",
       " 'ConversationId',\n",
       " 'Language',\n",
       " 'Source',\n",
       " 'Media',\n",
       " 'QuotedTweet',\n",
       " 'MentionedUsers',\n",
       " 'hashtag',\n",
       " 'hastag_counts']"
      ]
     },
     "execution_count": 8,
     "metadata": {},
     "output_type": "execute_result"
    }
   ],
   "source": [
    "# Exibindo as colunas\n",
    "dados.columns"
   ]
  },
  {
   "cell_type": "code",
   "execution_count": 9,
   "id": "107754b5",
   "metadata": {},
   "outputs": [
    {
     "data": {
      "text/plain": [
       "50001"
      ]
     },
     "execution_count": 9,
     "metadata": {},
     "output_type": "execute_result"
    }
   ],
   "source": [
    "# Exibindo o número de linhas\n",
    "dados.count()"
   ]
  },
  {
   "cell_type": "code",
   "execution_count": 11,
   "id": "dd96aa7d",
   "metadata": {},
   "outputs": [],
   "source": [
    "# Vou converter para o pandas para poder manipular\n",
    "pandasDF = dados.toPandas()"
   ]
  },
  {
   "cell_type": "markdown",
   "id": "decbb0c0",
   "metadata": {},
   "source": [
    "\n",
    "### Traduzir os textos que não estão em inglês para facilitar posteriormente na análise de sentimentos"
   ]
  },
  {
   "cell_type": "code",
   "execution_count": 12,
   "id": "e1b04d9a",
   "metadata": {},
   "outputs": [
    {
     "data": {
      "text/plain": [
       "50001"
      ]
     },
     "execution_count": 12,
     "metadata": {},
     "output_type": "execute_result"
    }
   ],
   "source": [
    "# TEMOS 50001 LINHAS\n",
    "len(pandasDF)"
   ]
  },
  {
   "cell_type": "code",
   "execution_count": 13,
   "id": "d3ea50ca",
   "metadata": {},
   "outputs": [
    {
     "data": {
      "text/plain": [
       "array(['ja', 'en', 'de', 'tr', 'pl', 'fr', 'es', 'pt', 'lo', 'no', 'ca',\n",
       "       'zh', 'qme', 'th', 'ne', 'ko', 'und', 'nl', 'fa', 'it', 'da', 'fi',\n",
       "       'eu', 'hi', 'ar', 'sv', 'in', 'ru', 'qht', 'tl', 'hu', 'cs', 'uk',\n",
       "       'iw', 'et', 'cy', 'bg', 'ht', 'el', 'vi', 'sl', 'kn', 'ro', 'lt',\n",
       "       'ur', 'zxx', 'ml', 'mr', 'lv', 'gu', 'qam', 'is', 'ta', 'te', 'pa',\n",
       "       'sd', 'am', 'sr', 'hy', 'or', 'bn'], dtype=object)"
      ]
     },
     "execution_count": 13,
     "metadata": {},
     "output_type": "execute_result"
    }
   ],
   "source": [
    "pandasDF['Language'].unique()"
   ]
  },
  {
   "cell_type": "code",
   "execution_count": 14,
   "id": "68ac76e7",
   "metadata": {},
   "outputs": [
    {
     "data": {
      "text/plain": [
       "32076"
      ]
     },
     "execution_count": 14,
     "metadata": {},
     "output_type": "execute_result"
    }
   ],
   "source": [
    "# 32076 estão em inglês\n",
    "len(pandasDF[['Text','Language']].loc[pandasDF['Language'] == 'en'])"
   ]
  },
  {
   "cell_type": "code",
   "execution_count": 15,
   "id": "b5b56084",
   "metadata": {},
   "outputs": [
    {
     "data": {
      "text/html": [
       "<div>\n",
       "<style scoped>\n",
       "    .dataframe tbody tr th:only-of-type {\n",
       "        vertical-align: middle;\n",
       "    }\n",
       "\n",
       "    .dataframe tbody tr th {\n",
       "        vertical-align: top;\n",
       "    }\n",
       "\n",
       "    .dataframe thead th {\n",
       "        text-align: right;\n",
       "    }\n",
       "</style>\n",
       "<table border=\"1\" class=\"dataframe\">\n",
       "  <thead>\n",
       "    <tr style=\"text-align: right;\">\n",
       "      <th></th>\n",
       "      <th>Text</th>\n",
       "      <th>Language</th>\n",
       "    </tr>\n",
       "  </thead>\n",
       "  <tbody>\n",
       "    <tr>\n",
       "      <th>0</th>\n",
       "      <td>ChatGPTで遊ぶの忘れてた！！\\n書類作るコード書いてみてほしいのと、\\nどこまで思考整...</td>\n",
       "      <td>ja</td>\n",
       "    </tr>\n",
       "    <tr>\n",
       "      <th>2</th>\n",
       "      <td>Schaut Euch an, was @fobizz @DianaKnodel alles...</td>\n",
       "      <td>de</td>\n",
       "    </tr>\n",
       "    <tr>\n",
       "      <th>4</th>\n",
       "      <td>Profilinde vatan, Türkiye falan yazan bireyler...</td>\n",
       "      <td>tr</td>\n",
       "    </tr>\n",
       "    <tr>\n",
       "      <th>5</th>\n",
       "      <td>ChatGPT’nin bilinmeyen arka planı: Ucuz iş güc...</td>\n",
       "      <td>tr</td>\n",
       "    </tr>\n",
       "    <tr>\n",
       "      <th>12</th>\n",
       "      <td>最新コメント15件（01/22 22:45）\\n\\n【1月17日 登録記事】AzureでCh...</td>\n",
       "      <td>ja</td>\n",
       "    </tr>\n",
       "    <tr>\n",
       "      <th>...</th>\n",
       "      <td>...</td>\n",
       "      <td>...</td>\n",
       "    </tr>\n",
       "    <tr>\n",
       "      <th>49994</th>\n",
       "      <td>@FedeMoctezuma 5 cosas que puedes hacer  con C...</td>\n",
       "      <td>es</td>\n",
       "    </tr>\n",
       "    <tr>\n",
       "      <th>49996</th>\n",
       "      <td>#ChatGPT ist ein #Chatbot, der durch künstlich...</td>\n",
       "      <td>de</td>\n",
       "    </tr>\n",
       "    <tr>\n",
       "      <th>49997</th>\n",
       "      <td>@r8r Ich hab mal die AI dazu befragt (ChatGPT)...</td>\n",
       "      <td>de</td>\n",
       "    </tr>\n",
       "    <tr>\n",
       "      <th>49998</th>\n",
       "      <td>5 minuti di #chatGPT e ho capito che apprende ...</td>\n",
       "      <td>it</td>\n",
       "    </tr>\n",
       "    <tr>\n",
       "      <th>50000</th>\n",
       "      <td>Ahora sueño con el día en que Amazon integre u...</td>\n",
       "      <td>es</td>\n",
       "    </tr>\n",
       "  </tbody>\n",
       "</table>\n",
       "<p>17925 rows × 2 columns</p>\n",
       "</div>"
      ],
      "text/plain": [
       "                                                    Text Language\n",
       "0      ChatGPTで遊ぶの忘れてた！！\\n書類作るコード書いてみてほしいのと、\\nどこまで思考整...       ja\n",
       "2      Schaut Euch an, was @fobizz @DianaKnodel alles...       de\n",
       "4      Profilinde vatan, Türkiye falan yazan bireyler...       tr\n",
       "5      ChatGPT’nin bilinmeyen arka planı: Ucuz iş güc...       tr\n",
       "12     最新コメント15件（01/22 22:45）\\n\\n【1月17日 登録記事】AzureでCh...       ja\n",
       "...                                                  ...      ...\n",
       "49994  @FedeMoctezuma 5 cosas que puedes hacer  con C...       es\n",
       "49996  #ChatGPT ist ein #Chatbot, der durch künstlich...       de\n",
       "49997  @r8r Ich hab mal die AI dazu befragt (ChatGPT)...       de\n",
       "49998  5 minuti di #chatGPT e ho capito che apprende ...       it\n",
       "50000  Ahora sueño con el día en que Amazon integre u...       es\n",
       "\n",
       "[17925 rows x 2 columns]"
      ]
     },
     "execution_count": 15,
     "metadata": {},
     "output_type": "execute_result"
    }
   ],
   "source": [
    "# salvando em outro dataframe os textos diferentes de inglês\n",
    "pandas_text = pandasDF[['Text','Language']].loc[pandasDF['Language'] != 'en']\n",
    "pandas_text"
   ]
  },
  {
   "cell_type": "code",
   "execution_count": 19,
   "id": "f1bfd018",
   "metadata": {},
   "outputs": [
    {
     "data": {
      "text/plain": [
       "pandas.core.frame.DataFrame"
      ]
     },
     "execution_count": 19,
     "metadata": {},
     "output_type": "execute_result"
    }
   ],
   "source": [
    "type(pandas_text)"
   ]
  },
  {
   "cell_type": "code",
   "execution_count": 16,
   "id": "c04f32c5",
   "metadata": {},
   "outputs": [],
   "source": [
    "# Verificando se todos os idiomas estão no google translator\n",
    "google_list = list(googletrans.LANGUAGES.keys())"
   ]
  },
  {
   "cell_type": "code",
   "execution_count": 17,
   "id": "ef208f48",
   "metadata": {},
   "outputs": [],
   "source": [
    "language_list = [pandas_text.iloc[i][1] for i in range(len(pandas_text))] \n",
    "     "
   ]
  },
  {
   "cell_type": "markdown",
   "id": "2daacd84",
   "metadata": {},
   "source": [
    "### Existem alguns que não estão no google translator, mas apenas 2 são idiomas, como podemos ver abaixo no significado"
   ]
  },
  {
   "cell_type": "code",
   "execution_count": 18,
   "id": "61d6d0c6",
   "metadata": {},
   "outputs": [
    {
     "data": {
      "text/plain": [
       "['in', 'qht', 'qam', 'qme', 'zxx', 'zh', 'und']"
      ]
     },
     "execution_count": 18,
     "metadata": {},
     "output_type": "execute_result"
    }
   ],
   "source": [
    "difference = list(set(language_list) - set(google_list))\n",
    "difference"
   ]
  },
  {
   "cell_type": "markdown",
   "id": "f8d9aa4e",
   "metadata": {},
   "source": [
    "### significado de cada abreviação:\n",
    "\n",
    "<br> und -> indeterminado </br>\n",
    "<br> qht -> somente hashtags </br>\n",
    "<br> zxx -> tweets com media ou card, sem texto </br>\n",
    "<br> qam -> somente menção </br>\n",
    "<br> zh -> alterar para zh-cn </br>\n",
    "<br> in -> alterar para ms </br>\n",
    "<br> qme -> media links </br>\n"
   ]
  },
  {
   "cell_type": "code",
   "execution_count": 19,
   "id": "ecc08398",
   "metadata": {},
   "outputs": [
    {
     "name": "stdout",
     "output_type": "stream",
     "text": [
      "Language \"zh\": 149\n",
      "Language \"in\": 251\n"
     ]
    }
   ],
   "source": [
    "quantidade_zh = len(pandas_text.loc[pandas_text['Language'] == 'zh'])\n",
    "quantidade_in = len(pandas_text.loc[pandas_text['Language'] == 'in'])\n",
    "print(f'Language \"zh\": {quantidade_zh}')\n",
    "print(f'Language \"in\": {quantidade_in}')"
   ]
  },
  {
   "cell_type": "markdown",
   "id": "47a39657",
   "metadata": {},
   "source": [
    "#### Irei excluir as linhas com \"Language\"  und, qht, zxx, qam, qme\n",
    "#### Irei alterar as linhas com \"Language\"  zh e in"
   ]
  },
  {
   "cell_type": "code",
   "execution_count": 20,
   "id": "b5a4d390",
   "metadata": {},
   "outputs": [
    {
     "data": {
      "text/plain": [
       "917"
      ]
     },
     "execution_count": 20,
     "metadata": {},
     "output_type": "execute_result"
    }
   ],
   "source": [
    "len(pandasDF.loc[(pandasDF['Language'] =='qme') | (pandasDF['Language'] =='und')  | (pandasDF['Language'] =='qht')  | (pandasDF['Language'] =='zxx') | (pandasDF['Language'] =='qam')])"
   ]
  },
  {
   "cell_type": "code",
   "execution_count": 21,
   "id": "2c4c8dae",
   "metadata": {},
   "outputs": [],
   "source": [
    "pandasDF.drop(pandasDF.loc[(pandasDF['Language'] =='qme') | (pandasDF['Language'] =='und')  | (pandasDF['Language'] =='qht')  | (pandasDF['Language'] =='zxx') | (pandasDF['Language'] =='qam')].index, inplace = True)"
   ]
  },
  {
   "cell_type": "code",
   "execution_count": 22,
   "id": "8126c18e",
   "metadata": {},
   "outputs": [
    {
     "data": {
      "text/plain": [
       "49084"
      ]
     },
     "execution_count": 22,
     "metadata": {},
     "output_type": "execute_result"
    }
   ],
   "source": [
    "len(pandasDF)"
   ]
  },
  {
   "cell_type": "code",
   "execution_count": 23,
   "id": "35f56168",
   "metadata": {},
   "outputs": [],
   "source": [
    "pandasDF['Language'].loc[pandasDF['Language'] == 'zh'] = 'zh-cn'"
   ]
  },
  {
   "cell_type": "code",
   "execution_count": 24,
   "id": "0c7f5f05",
   "metadata": {},
   "outputs": [],
   "source": [
    "pandasDF['Language'].loc[pandasDF['Language'] == 'in'] = 'ms'"
   ]
  },
  {
   "cell_type": "code",
   "execution_count": 25,
   "id": "7f9fd978",
   "metadata": {},
   "outputs": [
    {
     "name": "stdout",
     "output_type": "stream",
     "text": [
      "Language \"zh_cn\": 149\n",
      "Language \"ms\": 251\n"
     ]
    }
   ],
   "source": [
    "quantidade_zh_cn = len(pandasDF.loc[pandasDF['Language'] == 'zh-cn'])\n",
    "quantidade_ms = len(pandasDF.loc[pandasDF['Language'] == 'ms'])\n",
    "print(f'Language \"zh_cn\": {quantidade_zh_cn}')\n",
    "print(f'Language \"ms\": {quantidade_ms}')"
   ]
  },
  {
   "cell_type": "code",
   "execution_count": 26,
   "id": "56cdc3ee",
   "metadata": {},
   "outputs": [
    {
     "data": {
      "text/html": [
       "<div>\n",
       "<style scoped>\n",
       "    .dataframe tbody tr th:only-of-type {\n",
       "        vertical-align: middle;\n",
       "    }\n",
       "\n",
       "    .dataframe tbody tr th {\n",
       "        vertical-align: top;\n",
       "    }\n",
       "\n",
       "    .dataframe thead th {\n",
       "        text-align: right;\n",
       "    }\n",
       "</style>\n",
       "<table border=\"1\" class=\"dataframe\">\n",
       "  <thead>\n",
       "    <tr style=\"text-align: right;\">\n",
       "      <th></th>\n",
       "      <th>Text</th>\n",
       "      <th>Language</th>\n",
       "    </tr>\n",
       "  </thead>\n",
       "  <tbody>\n",
       "    <tr>\n",
       "      <th>0</th>\n",
       "      <td>ChatGPTで遊ぶの忘れてた！！\\n書類作るコード書いてみてほしいのと、\\nどこまで思考整...</td>\n",
       "      <td>ja</td>\n",
       "    </tr>\n",
       "    <tr>\n",
       "      <th>2</th>\n",
       "      <td>Schaut Euch an, was @fobizz @DianaKnodel alles...</td>\n",
       "      <td>de</td>\n",
       "    </tr>\n",
       "    <tr>\n",
       "      <th>4</th>\n",
       "      <td>Profilinde vatan, Türkiye falan yazan bireyler...</td>\n",
       "      <td>tr</td>\n",
       "    </tr>\n",
       "    <tr>\n",
       "      <th>5</th>\n",
       "      <td>ChatGPT’nin bilinmeyen arka planı: Ucuz iş güc...</td>\n",
       "      <td>tr</td>\n",
       "    </tr>\n",
       "    <tr>\n",
       "      <th>12</th>\n",
       "      <td>最新コメント15件（01/22 22:45）\\n\\n【1月17日 登録記事】AzureでCh...</td>\n",
       "      <td>ja</td>\n",
       "    </tr>\n",
       "    <tr>\n",
       "      <th>13</th>\n",
       "      <td>Są dobre i złe wieści na temat ChatGPT.\\n\\n✅ O...</td>\n",
       "      <td>pl</td>\n",
       "    </tr>\n",
       "    <tr>\n",
       "      <th>14</th>\n",
       "      <td>#ChatGPT wydaje na operację w chmurze 3 mln do...</td>\n",
       "      <td>pl</td>\n",
       "    </tr>\n",
       "    <tr>\n",
       "      <th>16</th>\n",
       "      <td>J'ai juste demander à l'IA chatGPT de faire un...</td>\n",
       "      <td>fr</td>\n",
       "    </tr>\n",
       "    <tr>\n",
       "      <th>17</th>\n",
       "      <td>Google Presenta Sparrow, Su Inteligencia Artif...</td>\n",
       "      <td>es</td>\n",
       "    </tr>\n",
       "    <tr>\n",
       "      <th>24</th>\n",
       "      <td>esse chatGPT é bonzão pra explicar código, tá ...</td>\n",
       "      <td>pt</td>\n",
       "    </tr>\n",
       "  </tbody>\n",
       "</table>\n",
       "</div>"
      ],
      "text/plain": [
       "                                                 Text Language\n",
       "0   ChatGPTで遊ぶの忘れてた！！\\n書類作るコード書いてみてほしいのと、\\nどこまで思考整...       ja\n",
       "2   Schaut Euch an, was @fobizz @DianaKnodel alles...       de\n",
       "4   Profilinde vatan, Türkiye falan yazan bireyler...       tr\n",
       "5   ChatGPT’nin bilinmeyen arka planı: Ucuz iş güc...       tr\n",
       "12  最新コメント15件（01/22 22:45）\\n\\n【1月17日 登録記事】AzureでCh...       ja\n",
       "13  Są dobre i złe wieści na temat ChatGPT.\\n\\n✅ O...       pl\n",
       "14  #ChatGPT wydaje na operację w chmurze 3 mln do...       pl\n",
       "16  J'ai juste demander à l'IA chatGPT de faire un...       fr\n",
       "17  Google Presenta Sparrow, Su Inteligencia Artif...       es\n",
       "24  esse chatGPT é bonzão pra explicar código, tá ...       pt"
      ]
     },
     "execution_count": 26,
     "metadata": {},
     "output_type": "execute_result"
    }
   ],
   "source": [
    "# atualizando a outra tabela\n",
    "pandas_text = pandasDF[['Text','Language']].loc[pandasDF['Language'] != 'en']\n",
    "pandas_text.head(10)"
   ]
  },
  {
   "cell_type": "code",
   "execution_count": 27,
   "id": "53b76705",
   "metadata": {},
   "outputs": [],
   "source": [
    "# listando todas os idiomas\n",
    "language_list = [pandas_text.iloc[i][1] for i in range(len(pandas_text))] \n",
    "     "
   ]
  },
  {
   "cell_type": "markdown",
   "id": "6e3fa2ac",
   "metadata": {},
   "source": [
    "#### Agora não temos diferenças"
   ]
  },
  {
   "cell_type": "code",
   "execution_count": 28,
   "id": "4274fbd5",
   "metadata": {},
   "outputs": [
    {
     "data": {
      "text/plain": [
       "[]"
      ]
     },
     "execution_count": 28,
     "metadata": {},
     "output_type": "execute_result"
    }
   ],
   "source": [
    "difference = list(set(language_list) - set(google_list))\n",
    "difference"
   ]
  },
  {
   "cell_type": "code",
   "execution_count": 29,
   "id": "c04a5d0f",
   "metadata": {},
   "outputs": [],
   "source": [
    "# criar uma instância da classe Translator\n",
    "translator = Translator()"
   ]
  },
  {
   "cell_type": "markdown",
   "id": "38d3a267",
   "metadata": {},
   "source": [
    "#### Realizando a tradução para o inglês"
   ]
  },
  {
   "cell_type": "markdown",
   "id": "81d3efa4",
   "metadata": {},
   "source": [
    "##### Neste looping realizei a tradução, levou em torno de 40 minutos, por isso, salvei o resultado e estou importando pelo objeto \"arquivo_traducoes\""
   ]
  },
  {
   "cell_type": "code",
   "execution_count": 34,
   "id": "d7c66e5d",
   "metadata": {},
   "outputs": [],
   "source": [
    "#translations_list = []\n",
    "#for item in range(len(pandas_text)):\n",
    "#    translations = translator.translate(pandas_text.iloc[item][0], dest='en', src = language_list[item] )\n",
    "#    translations_list.append(translations.text)    "
   ]
  },
  {
   "cell_type": "code",
   "execution_count": 35,
   "id": "fc8ff910",
   "metadata": {},
   "outputs": [],
   "source": [
    "#traducao_df = pd.DataFrame(translations_list)"
   ]
  },
  {
   "cell_type": "markdown",
   "id": "25331eba",
   "metadata": {},
   "source": [
    "Salvar o texto traduzido"
   ]
  },
  {
   "cell_type": "code",
   "execution_count": 36,
   "id": "24b3204c",
   "metadata": {},
   "outputs": [],
   "source": [
    "#pandas_text['Traduzido'] = translations_list"
   ]
  },
  {
   "cell_type": "code",
   "execution_count": 37,
   "id": "17be1f8f",
   "metadata": {},
   "outputs": [],
   "source": [
    "#pandas_text['Traduzido']"
   ]
  },
  {
   "cell_type": "markdown",
   "id": "cadf1f2e",
   "metadata": {},
   "source": [
    "### Exportando o resultado da tradução"
   ]
  },
  {
   "cell_type": "code",
   "execution_count": 38,
   "id": "24a24b86",
   "metadata": {},
   "outputs": [],
   "source": [
    "#pandas_text.to_csv('dados/traducao_v2.csv', index = True)"
   ]
  },
  {
   "cell_type": "code",
   "execution_count": 39,
   "id": "2a24bd61",
   "metadata": {},
   "outputs": [],
   "source": [
    "#?pd.DataFrame.to_csv"
   ]
  },
  {
   "cell_type": "markdown",
   "id": "d1027204",
   "metadata": {},
   "source": [
    "### Importando arquivo com as traduções"
   ]
  },
  {
   "cell_type": "code",
   "execution_count": 30,
   "id": "f0c5da6f",
   "metadata": {},
   "outputs": [],
   "source": [
    "arquivo_traducoes = pd.read_csv(\"dados/traducao_v2.csv\", delimiter = ',', header = None, names = [\"Text\", \"Language\",\"Traduzido\"], index_col = 0, skiprows = [0])"
   ]
  },
  {
   "cell_type": "code",
   "execution_count": 31,
   "id": "3ba63720",
   "metadata": {},
   "outputs": [
    {
     "data": {
      "text/html": [
       "<div>\n",
       "<style scoped>\n",
       "    .dataframe tbody tr th:only-of-type {\n",
       "        vertical-align: middle;\n",
       "    }\n",
       "\n",
       "    .dataframe tbody tr th {\n",
       "        vertical-align: top;\n",
       "    }\n",
       "\n",
       "    .dataframe thead th {\n",
       "        text-align: right;\n",
       "    }\n",
       "</style>\n",
       "<table border=\"1\" class=\"dataframe\">\n",
       "  <thead>\n",
       "    <tr style=\"text-align: right;\">\n",
       "      <th></th>\n",
       "      <th>Text</th>\n",
       "      <th>Language</th>\n",
       "      <th>Traduzido</th>\n",
       "    </tr>\n",
       "  </thead>\n",
       "  <tbody>\n",
       "    <tr>\n",
       "      <th>0</th>\n",
       "      <td>ChatGPTで遊ぶの忘れてた！！\\n書類作るコード書いてみてほしいのと、\\nどこまで思考整...</td>\n",
       "      <td>ja</td>\n",
       "      <td>I forgot to play ChatGPT! !\\nI want you to wri...</td>\n",
       "    </tr>\n",
       "    <tr>\n",
       "      <th>2</th>\n",
       "      <td>Schaut Euch an, was @fobizz @DianaKnodel alles...</td>\n",
       "      <td>de</td>\n",
       "      <td>Check out what @fobizz @DianaKnodel brings to ...</td>\n",
       "    </tr>\n",
       "    <tr>\n",
       "      <th>4</th>\n",
       "      <td>Profilinde vatan, Türkiye falan yazan bireyler...</td>\n",
       "      <td>tr</td>\n",
       "      <td>The first thing that individuals who write hom...</td>\n",
       "    </tr>\n",
       "    <tr>\n",
       "      <th>5</th>\n",
       "      <td>ChatGPT’nin bilinmeyen arka planı: Ucuz iş güc...</td>\n",
       "      <td>tr</td>\n",
       "      <td>The unknown background of ChatGPT: Cheap labor...</td>\n",
       "    </tr>\n",
       "    <tr>\n",
       "      <th>12</th>\n",
       "      <td>最新コメント15件（01/22 22:45）\\n\\n【1月17日 登録記事】AzureでCh...</td>\n",
       "      <td>ja</td>\n",
       "      <td>15 latest comments (01/22 22:45)\\n\\n[Article r...</td>\n",
       "    </tr>\n",
       "    <tr>\n",
       "      <th>...</th>\n",
       "      <td>...</td>\n",
       "      <td>...</td>\n",
       "      <td>...</td>\n",
       "    </tr>\n",
       "    <tr>\n",
       "      <th>49994</th>\n",
       "      <td>@FedeMoctezuma 5 cosas que puedes hacer  con C...</td>\n",
       "      <td>es</td>\n",
       "      <td>@FedeMoctezuma 5 things you can do with ChatGP...</td>\n",
       "    </tr>\n",
       "    <tr>\n",
       "      <th>49996</th>\n",
       "      <td>#ChatGPT ist ein #Chatbot, der durch künstlich...</td>\n",
       "      <td>de</td>\n",
       "      <td>#ChatGPT is a #chatbot that uses artificial in...</td>\n",
       "    </tr>\n",
       "    <tr>\n",
       "      <th>49997</th>\n",
       "      <td>@r8r Ich hab mal die AI dazu befragt (ChatGPT)...</td>\n",
       "      <td>de</td>\n",
       "      <td>@r8r I asked the AI ​​about it (ChatGPT) https...</td>\n",
       "    </tr>\n",
       "    <tr>\n",
       "      <th>49998</th>\n",
       "      <td>5 minuti di #chatGPT e ho capito che apprende ...</td>\n",
       "      <td>it</td>\n",
       "      <td>5 minutes of #chatGPT and I realized that he l...</td>\n",
       "    </tr>\n",
       "    <tr>\n",
       "      <th>50000</th>\n",
       "      <td>Ahora sueño con el día en que Amazon integre u...</td>\n",
       "      <td>es</td>\n",
       "      <td>Now I dream of the day when Amazon integrates ...</td>\n",
       "    </tr>\n",
       "  </tbody>\n",
       "</table>\n",
       "<p>17008 rows × 3 columns</p>\n",
       "</div>"
      ],
      "text/plain": [
       "                                                    Text Language  \\\n",
       "0      ChatGPTで遊ぶの忘れてた！！\\n書類作るコード書いてみてほしいのと、\\nどこまで思考整...       ja   \n",
       "2      Schaut Euch an, was @fobizz @DianaKnodel alles...       de   \n",
       "4      Profilinde vatan, Türkiye falan yazan bireyler...       tr   \n",
       "5      ChatGPT’nin bilinmeyen arka planı: Ucuz iş güc...       tr   \n",
       "12     最新コメント15件（01/22 22:45）\\n\\n【1月17日 登録記事】AzureでCh...       ja   \n",
       "...                                                  ...      ...   \n",
       "49994  @FedeMoctezuma 5 cosas que puedes hacer  con C...       es   \n",
       "49996  #ChatGPT ist ein #Chatbot, der durch künstlich...       de   \n",
       "49997  @r8r Ich hab mal die AI dazu befragt (ChatGPT)...       de   \n",
       "49998  5 minuti di #chatGPT e ho capito che apprende ...       it   \n",
       "50000  Ahora sueño con el día en que Amazon integre u...       es   \n",
       "\n",
       "                                               Traduzido  \n",
       "0      I forgot to play ChatGPT! !\\nI want you to wri...  \n",
       "2      Check out what @fobizz @DianaKnodel brings to ...  \n",
       "4      The first thing that individuals who write hom...  \n",
       "5      The unknown background of ChatGPT: Cheap labor...  \n",
       "12     15 latest comments (01/22 22:45)\\n\\n[Article r...  \n",
       "...                                                  ...  \n",
       "49994  @FedeMoctezuma 5 things you can do with ChatGP...  \n",
       "49996  #ChatGPT is a #chatbot that uses artificial in...  \n",
       "49997  @r8r I asked the AI ​​about it (ChatGPT) https...  \n",
       "49998  5 minutes of #chatGPT and I realized that he l...  \n",
       "50000  Now I dream of the day when Amazon integrates ...  \n",
       "\n",
       "[17008 rows x 3 columns]"
      ]
     },
     "execution_count": 31,
     "metadata": {},
     "output_type": "execute_result"
    }
   ],
   "source": [
    "arquivo_traducoes"
   ]
  },
  {
   "cell_type": "code",
   "execution_count": 32,
   "id": "ff01403c",
   "metadata": {},
   "outputs": [],
   "source": [
    "# Criando uma cópia do dataframe pandas\n",
    "pandasDF_V2 = pandasDF.copy()"
   ]
  },
  {
   "cell_type": "code",
   "execution_count": 33,
   "id": "8844f2c4",
   "metadata": {},
   "outputs": [
    {
     "data": {
      "text/plain": [
       "49084"
      ]
     },
     "execution_count": 33,
     "metadata": {},
     "output_type": "execute_result"
    }
   ],
   "source": [
    "len(pandasDF_V2)"
   ]
  },
  {
   "cell_type": "markdown",
   "id": "928a1792",
   "metadata": {},
   "source": [
    "### Alterando os textos que não estão em inglês para os textos traduzidos"
   ]
  },
  {
   "cell_type": "code",
   "execution_count": 44,
   "id": "32cb435a",
   "metadata": {},
   "outputs": [],
   "source": [
    "# pandasDF_V2['Text'].loc[pandasDF_V2['Language'] != 'en'] = pandas_text['Traduzido']"
   ]
  },
  {
   "cell_type": "code",
   "execution_count": 34,
   "id": "87393500",
   "metadata": {},
   "outputs": [],
   "source": [
    "# Passando as traduções para os textos que não estão em inglês\n",
    "pandasDF_V2['Text'].loc[pandasDF_V2['Language'] != 'en'] = arquivo_traducoes['Traduzido']"
   ]
  },
  {
   "cell_type": "code",
   "execution_count": 35,
   "id": "f357df0f",
   "metadata": {},
   "outputs": [
    {
     "data": {
      "text/plain": [
       "49084"
      ]
     },
     "execution_count": 35,
     "metadata": {},
     "output_type": "execute_result"
    }
   ],
   "source": [
    "len(pandasDF_V2)"
   ]
  },
  {
   "cell_type": "code",
   "execution_count": 36,
   "id": "8effc3e7",
   "metadata": {},
   "outputs": [
    {
     "data": {
      "text/html": [
       "<div>\n",
       "<style scoped>\n",
       "    .dataframe tbody tr th:only-of-type {\n",
       "        vertical-align: middle;\n",
       "    }\n",
       "\n",
       "    .dataframe tbody tr th {\n",
       "        vertical-align: top;\n",
       "    }\n",
       "\n",
       "    .dataframe thead th {\n",
       "        text-align: right;\n",
       "    }\n",
       "</style>\n",
       "<table border=\"1\" class=\"dataframe\">\n",
       "  <thead>\n",
       "    <tr style=\"text-align: right;\">\n",
       "      <th></th>\n",
       "      <th>Text</th>\n",
       "    </tr>\n",
       "  </thead>\n",
       "  <tbody>\n",
       "    <tr>\n",
       "      <th>0</th>\n",
       "      <td>I forgot to play ChatGPT! !\\nI want you to wri...</td>\n",
       "    </tr>\n",
       "    <tr>\n",
       "      <th>1</th>\n",
       "      <td>@AlexandrovnaIng Prohibition of ChatGPT has be...</td>\n",
       "    </tr>\n",
       "    <tr>\n",
       "      <th>2</th>\n",
       "      <td>Check out what @fobizz @DianaKnodel brings to ...</td>\n",
       "    </tr>\n",
       "    <tr>\n",
       "      <th>3</th>\n",
       "      <td>Bow down to chatGPT 🫡..... https://t.co/ENTSzi...</td>\n",
       "    </tr>\n",
       "    <tr>\n",
       "      <th>4</th>\n",
       "      <td>The first thing that individuals who write hom...</td>\n",
       "    </tr>\n",
       "    <tr>\n",
       "      <th>...</th>\n",
       "      <td>...</td>\n",
       "    </tr>\n",
       "    <tr>\n",
       "      <th>49996</th>\n",
       "      <td>#ChatGPT is a #chatbot that uses artificial in...</td>\n",
       "    </tr>\n",
       "    <tr>\n",
       "      <th>49997</th>\n",
       "      <td>@r8r I asked the AI ​​about it (ChatGPT) https...</td>\n",
       "    </tr>\n",
       "    <tr>\n",
       "      <th>49998</th>\n",
       "      <td>5 minutes of #chatGPT and I realized that he l...</td>\n",
       "    </tr>\n",
       "    <tr>\n",
       "      <th>49999</th>\n",
       "      <td>Portland Shop Uses ChatGPT To Tell Family Stor...</td>\n",
       "    </tr>\n",
       "    <tr>\n",
       "      <th>50000</th>\n",
       "      <td>Now I dream of the day when Amazon integrates ...</td>\n",
       "    </tr>\n",
       "  </tbody>\n",
       "</table>\n",
       "<p>49084 rows × 1 columns</p>\n",
       "</div>"
      ],
      "text/plain": [
       "                                                    Text\n",
       "0      I forgot to play ChatGPT! !\\nI want you to wri...\n",
       "1      @AlexandrovnaIng Prohibition of ChatGPT has be...\n",
       "2      Check out what @fobizz @DianaKnodel brings to ...\n",
       "3      Bow down to chatGPT 🫡..... https://t.co/ENTSzi...\n",
       "4      The first thing that individuals who write hom...\n",
       "...                                                  ...\n",
       "49996  #ChatGPT is a #chatbot that uses artificial in...\n",
       "49997  @r8r I asked the AI ​​about it (ChatGPT) https...\n",
       "49998  5 minutes of #chatGPT and I realized that he l...\n",
       "49999  Portland Shop Uses ChatGPT To Tell Family Stor...\n",
       "50000  Now I dream of the day when Amazon integrates ...\n",
       "\n",
       "[49084 rows x 1 columns]"
      ]
     },
     "execution_count": 36,
     "metadata": {},
     "output_type": "execute_result"
    }
   ],
   "source": [
    "# Filtrando apenas os Textos (Tweets)\n",
    "pandasDF_V2_text = pandasDF_V2['Text']\n",
    "pandasDF_V2_text = pd.DataFrame(pandasDF_V2_text)\n",
    "pandasDF_V2_text"
   ]
  },
  {
   "cell_type": "markdown",
   "id": "925ab6ef",
   "metadata": {},
   "source": [
    "### Criando o DataFrame do Spark com os tweets, todos em inglês"
   ]
  },
  {
   "cell_type": "code",
   "execution_count": 37,
   "id": "e4370231",
   "metadata": {},
   "outputs": [],
   "source": [
    "spark_df = spSession.createDataFrame(pandasDF_V2_text)"
   ]
  },
  {
   "cell_type": "markdown",
   "id": "2f3ea018",
   "metadata": {},
   "source": [
    "### Realizando a limpeza dos tweets"
   ]
  },
  {
   "cell_type": "markdown",
   "id": "12b1e03a",
   "metadata": {},
   "source": [
    "Irei remover os links e RT (retweet) e @. Irei deixar os emoticons e pontuações."
   ]
  },
  {
   "cell_type": "code",
   "execution_count": 38,
   "id": "57ecdb32",
   "metadata": {},
   "outputs": [],
   "source": [
    "tweet_v1 = spark_df.withColumn(\"Clean\", F.regexp_replace(\"Text\", \"RT @[\\w]*:\", \"\"))\n",
    "tweet_v2 = tweet_v1.withColumn(\"Clean\", F.regexp_replace(\"Clean\", \"@[\\w]*\", \"\"))\n",
    "tweet_final = tweet_v2.withColumn(\"Clean\", F.regexp_replace(\"Clean\", \"https?://[A-Za-z0-9./]*\", \"\"))"
   ]
  },
  {
   "cell_type": "code",
   "execution_count": 39,
   "id": "0c39ceff",
   "metadata": {},
   "outputs": [
    {
     "name": "stdout",
     "output_type": "stream",
     "text": [
      "+--------------------+--------------------+\n",
      "|                Text|               Clean|\n",
      "+--------------------+--------------------+\n",
      "|I forgot to play ...|I forgot to play ...|\n",
      "|@AlexandrovnaIng ...| Prohibition of C...|\n",
      "|Check out what @f...|Check out what   ...|\n",
      "|Bow down to chatG...|Bow down to chatG...|\n",
      "|The first thing t...|The first thing t...|\n",
      "|The unknown backg...|The unknown backg...|\n",
      "|ChatGPT runs 10K ...|ChatGPT runs 10K ...|\n",
      "|@SWENGDAD There i...| There is repetit...|\n",
      "|I created a ficti...|I created a ficti...|\n",
      "|It will look simi...|It will look simi...|\n",
      "|If you ever playe...|If you ever playe...|\n",
      "|AI will initiate ...|AI will initiate ...|\n",
      "|15 latest comment...|15 latest comment...|\n",
      "|There is good new...|There is good new...|\n",
      "|#ChatGPT spends $...|#ChatGPT spends $...|\n",
      "|🤯 #ChatGPT write...|🤯 #ChatGPT write...|\n",
      "|I just asked the ...|I just asked the ...|\n",
      "|Google Presents S...|Google Presents S...|\n",
      "|Pay $42 per month...|Pay $42 per month...|\n",
      "|Your own AI knowl...|Your own AI knowl...|\n",
      "+--------------------+--------------------+\n",
      "only showing top 20 rows\n",
      "\n"
     ]
    }
   ],
   "source": [
    "tweet_final.show(20)"
   ]
  },
  {
   "cell_type": "markdown",
   "id": "aa04220b",
   "metadata": {},
   "source": [
    "### Criando \"tokenização\" dos tweets, ou seja, separando o texto em tokens, particionando em palavras\n"
   ]
  },
  {
   "cell_type": "markdown",
   "id": "b596bccb",
   "metadata": {},
   "source": [
    "### Aqui o Tokenizer irá separar pelo espaço em branco"
   ]
  },
  {
   "cell_type": "code",
   "execution_count": 41,
   "id": "0bf20e99",
   "metadata": {},
   "outputs": [
    {
     "name": "stdout",
     "output_type": "stream",
     "text": [
      "+--------------------+--------------------+\n",
      "|               Clean|               words|\n",
      "+--------------------+--------------------+\n",
      "|I forgot to play ...|[i, forgot, to, p...|\n",
      "| Prohibition of C...|[, prohibition, o...|\n",
      "|Check out what   ...|[check, out, what...|\n",
      "|Bow down to chatG...|[bow, down, to, c...|\n",
      "|The first thing t...|[the, first, thin...|\n",
      "+--------------------+--------------------+\n",
      "only showing top 5 rows\n",
      "\n"
     ]
    }
   ],
   "source": [
    "# Criando a instância da classe Tokenizer do pyspark\n",
    "tokenizer = Tokenizer(inputCol = 'Clean', outputCol='words')\n",
    "\n",
    "# aplicando a transformaçao nos textos e gerando uma tabela com o resultado\n",
    "\n",
    "df_tokenized = tokenizer.transform(tweet_final)\n",
    "\n",
    "# Selecionando as colunas\n",
    "df_tokenized.select(\"Clean\", \"words\").show(5)    "
   ]
  },
  {
   "cell_type": "markdown",
   "id": "a238e108",
   "metadata": {},
   "source": [
    "### Aqui irá remover stop word \n",
    "\n",
    "<b>por exemplo: os tokens da frase \"my daughter's\" eram: <i> my, daughter, s </i> </b>\n",
    "\n",
    "<b> após a remoção das stop words, ficou apenas <i>\"daughter\" </i> </b>"
   ]
  },
  {
   "cell_type": "code",
   "execution_count": 42,
   "id": "377058e8",
   "metadata": {},
   "outputs": [],
   "source": [
    "remover = StopWordsRemover(inputCol=\"words\", outputCol=\"tweet_no_stop_words\")\n",
    "result = remover.transform(df_tokenized).select(\"tweet_no_stop_words\")"
   ]
  },
  {
   "cell_type": "code",
   "execution_count": 43,
   "id": "121ce404",
   "metadata": {},
   "outputs": [
    {
     "data": {
      "text/plain": [
       "['i',\n",
       " 'me',\n",
       " 'my',\n",
       " 'myself',\n",
       " 'we',\n",
       " 'our',\n",
       " 'ours',\n",
       " 'ourselves',\n",
       " 'you',\n",
       " 'your',\n",
       " 'yours',\n",
       " 'yourself',\n",
       " 'yourselves',\n",
       " 'he',\n",
       " 'him',\n",
       " 'his',\n",
       " 'himself',\n",
       " 'she',\n",
       " 'her',\n",
       " 'hers',\n",
       " 'herself',\n",
       " 'it',\n",
       " 'its',\n",
       " 'itself',\n",
       " 'they',\n",
       " 'them',\n",
       " 'their',\n",
       " 'theirs',\n",
       " 'themselves',\n",
       " 'what',\n",
       " 'which',\n",
       " 'who',\n",
       " 'whom',\n",
       " 'this',\n",
       " 'that',\n",
       " 'these',\n",
       " 'those',\n",
       " 'am',\n",
       " 'is',\n",
       " 'are',\n",
       " 'was',\n",
       " 'were',\n",
       " 'be',\n",
       " 'been',\n",
       " 'being',\n",
       " 'have',\n",
       " 'has',\n",
       " 'had',\n",
       " 'having',\n",
       " 'do',\n",
       " 'does',\n",
       " 'did',\n",
       " 'doing',\n",
       " 'a',\n",
       " 'an',\n",
       " 'the',\n",
       " 'and',\n",
       " 'but',\n",
       " 'if',\n",
       " 'or',\n",
       " 'because',\n",
       " 'as',\n",
       " 'until',\n",
       " 'while',\n",
       " 'of',\n",
       " 'at',\n",
       " 'by',\n",
       " 'for',\n",
       " 'with',\n",
       " 'about',\n",
       " 'against',\n",
       " 'between',\n",
       " 'into',\n",
       " 'through',\n",
       " 'during',\n",
       " 'before',\n",
       " 'after',\n",
       " 'above',\n",
       " 'below',\n",
       " 'to',\n",
       " 'from',\n",
       " 'up',\n",
       " 'down',\n",
       " 'in',\n",
       " 'out',\n",
       " 'on',\n",
       " 'off',\n",
       " 'over',\n",
       " 'under',\n",
       " 'again',\n",
       " 'further',\n",
       " 'then',\n",
       " 'once',\n",
       " 'here',\n",
       " 'there',\n",
       " 'when',\n",
       " 'where',\n",
       " 'why',\n",
       " 'how',\n",
       " 'all',\n",
       " 'any',\n",
       " 'both',\n",
       " 'each',\n",
       " 'few',\n",
       " 'more',\n",
       " 'most',\n",
       " 'other',\n",
       " 'some',\n",
       " 'such',\n",
       " 'no',\n",
       " 'nor',\n",
       " 'not',\n",
       " 'only',\n",
       " 'own',\n",
       " 'same',\n",
       " 'so',\n",
       " 'than',\n",
       " 'too',\n",
       " 'very',\n",
       " 's',\n",
       " 't',\n",
       " 'can',\n",
       " 'will',\n",
       " 'just',\n",
       " 'don',\n",
       " 'should',\n",
       " 'now',\n",
       " \"i'll\",\n",
       " \"you'll\",\n",
       " \"he'll\",\n",
       " \"she'll\",\n",
       " \"we'll\",\n",
       " \"they'll\",\n",
       " \"i'd\",\n",
       " \"you'd\",\n",
       " \"he'd\",\n",
       " \"she'd\",\n",
       " \"we'd\",\n",
       " \"they'd\",\n",
       " \"i'm\",\n",
       " \"you're\",\n",
       " \"he's\",\n",
       " \"she's\",\n",
       " \"it's\",\n",
       " \"we're\",\n",
       " \"they're\",\n",
       " \"i've\",\n",
       " \"we've\",\n",
       " \"you've\",\n",
       " \"they've\",\n",
       " \"isn't\",\n",
       " \"aren't\",\n",
       " \"wasn't\",\n",
       " \"weren't\",\n",
       " \"haven't\",\n",
       " \"hasn't\",\n",
       " \"hadn't\",\n",
       " \"don't\",\n",
       " \"doesn't\",\n",
       " \"didn't\",\n",
       " \"won't\",\n",
       " \"wouldn't\",\n",
       " \"shan't\",\n",
       " \"shouldn't\",\n",
       " \"mustn't\",\n",
       " \"can't\",\n",
       " \"couldn't\",\n",
       " 'cannot',\n",
       " 'could',\n",
       " \"here's\",\n",
       " \"how's\",\n",
       " \"let's\",\n",
       " 'ought',\n",
       " \"that's\",\n",
       " \"there's\",\n",
       " \"what's\",\n",
       " \"when's\",\n",
       " \"where's\",\n",
       " \"who's\",\n",
       " \"why's\",\n",
       " 'would']"
      ]
     },
     "execution_count": 43,
     "metadata": {},
     "output_type": "execute_result"
    }
   ],
   "source": [
    "# essas são as stop words\n",
    "remover.getStopWords()"
   ]
  },
  {
   "cell_type": "code",
   "execution_count": 44,
   "id": "5e9f3bef",
   "metadata": {},
   "outputs": [
    {
     "name": "stdout",
     "output_type": "stream",
     "text": [
      "+--------------------+\n",
      "| tweet_no_stop_words|\n",
      "+--------------------+\n",
      "|[forgot, play, ch...|\n",
      "|[, prohibition, c...|\n",
      "|[check, , , bring...|\n",
      "|[bow, chatgpt, 🫡...|\n",
      "|[first, thing, in...|\n",
      "+--------------------+\n",
      "only showing top 5 rows\n",
      "\n"
     ]
    }
   ],
   "source": [
    "# Mostrando o resultado\n",
    "result.show(5)"
   ]
  },
  {
   "cell_type": "markdown",
   "id": "a06ea740",
   "metadata": {},
   "source": [
    "#### Aqui irei retirar os dados da coluna \"tweet_no_stop_words\" das listas, para posteriormente poder retirar as vírgulas (se não retirar ocorre erro quando for tentar retirar as vírgulas)"
   ]
  },
  {
   "cell_type": "code",
   "execution_count": 45,
   "id": "cc51680c",
   "metadata": {},
   "outputs": [],
   "source": [
    "result2 = result.withColumn(\"tweet_no_stop_words\", concat_ws(\",\", col(\"tweet_no_stop_words\")))"
   ]
  },
  {
   "cell_type": "code",
   "execution_count": 46,
   "id": "e803760f",
   "metadata": {},
   "outputs": [
    {
     "name": "stdout",
     "output_type": "stream",
     "text": [
      "+--------------------+\n",
      "| tweet_no_stop_words|\n",
      "+--------------------+\n",
      "|forgot,play,chatg...|\n",
      "|,prohibition,chat...|\n",
      "|check,,,brings,sl...|\n",
      "| bow,chatgpt,🫡.....|\n",
      "|first,thing,indiv...|\n",
      "+--------------------+\n",
      "only showing top 5 rows\n",
      "\n"
     ]
    }
   ],
   "source": [
    "result2.show(5)"
   ]
  },
  {
   "cell_type": "markdown",
   "id": "b77edbc5",
   "metadata": {},
   "source": [
    "#### Agora substituir as vírgulas por espaço"
   ]
  },
  {
   "cell_type": "code",
   "execution_count": 47,
   "id": "60d37c72",
   "metadata": {},
   "outputs": [],
   "source": [
    "result2 = result2.withColumn(\"tweet_no_stop_words\", F.regexp_replace(\"tweet_no_stop_words\",',',' '))"
   ]
  },
  {
   "cell_type": "code",
   "execution_count": 48,
   "id": "ad10505b",
   "metadata": {},
   "outputs": [
    {
     "name": "stdout",
     "output_type": "stream",
     "text": [
      "+--------------------+\n",
      "| tweet_no_stop_words|\n",
      "+--------------------+\n",
      "|forgot play chatg...|\n",
      "| prohibition chat...|\n",
      "|check   brings sl...|\n",
      "| bow chatgpt 🫡.....|\n",
      "|first thing indiv...|\n",
      "+--------------------+\n",
      "only showing top 5 rows\n",
      "\n"
     ]
    }
   ],
   "source": [
    "result2.show(5)"
   ]
  },
  {
   "cell_type": "markdown",
   "id": "6885506d",
   "metadata": {},
   "source": [
    "#### Criando uma função para gerar o score do sentimento utilizando SentimentIntensityAnalyzer"
   ]
  },
  {
   "cell_type": "markdown",
   "id": "aef2538d",
   "metadata": {},
   "source": [
    "Criando o objeto da classe SentimentIntensityAnalyzer. Depois atribuindo uma variável para receber o resultado do método \"polarity_score\" que retorna um dicionário informando se o texto é \"negativo\", \"neutro\", \"positivo\" e o \"compound\" que é a soma de todos os anteriores essa métrica vai de -1 a 1, sendo -1 negativo e 1 positivo\n"
   ]
  },
  {
   "cell_type": "code",
   "execution_count": 49,
   "id": "1fcec248",
   "metadata": {},
   "outputs": [],
   "source": [
    "def scoreSentimentIntensity(texto):\n",
    "    sentimentIntensity_object = SentimentIntensityAnalyzer()\n",
    "    dict_sentiment = sentimentIntensity_object.polarity_scores(texto)\n",
    "    return float(dict_sentiment['compound'])"
   ]
  },
  {
   "cell_type": "markdown",
   "id": "6d88ec8a",
   "metadata": {},
   "source": [
    "#### Passando os dados para a função, gerou os scores"
   ]
  },
  {
   "cell_type": "markdown",
   "id": "6348138a",
   "metadata": {},
   "source": [
    "Aplicar a função usando \"withColumn\" <br>\n",
    "udf - user defined function"
   ]
  },
  {
   "cell_type": "code",
   "execution_count": 51,
   "id": "0eb8d294",
   "metadata": {},
   "outputs": [
    {
     "name": "stdout",
     "output_type": "stream",
     "text": [
      "+--------------+\n",
      "|sentimentScore|\n",
      "+--------------+\n",
      "|        0.7081|\n",
      "|        0.4939|\n",
      "|        0.2023|\n",
      "|           0.0|\n",
      "|        0.5083|\n",
      "+--------------+\n",
      "only showing top 5 rows\n",
      "\n"
     ]
    }
   ],
   "source": [
    "udfSentimentIntensity = udf(scoreSentimentIntensity, FloatType())\n",
    "df_SentimentScore = result2.withColumn('sentimentScore', udfSentimentIntensity('tweet_no_stop_words'))\n",
    "df_SentimentScore.select('sentimentScore').show(5)"
   ]
  },
  {
   "cell_type": "markdown",
   "id": "8468e14c",
   "metadata": {},
   "source": [
    "#### Gerando uma função para classificar os scores <br>\n",
    "Será considerado um tweet <b>POSITIVO</b> se o score for <b>maior</b> que <b>0,05</b> <br>\n",
    "Será considerado um tweet <b>NEUTRO</b> se o score estiver <b>entre -0,05 e 0,05 </b> <br>\n",
    "Será considerado um tweet <b>NEGATIVO</b> se o score for <b>menor</b> que <b>-0,05</b>"
   ]
  },
  {
   "cell_type": "code",
   "execution_count": 52,
   "id": "25fd8d77",
   "metadata": {},
   "outputs": [],
   "source": [
    "def classifierSentiment(score):\n",
    "    return 1 if score > 0.05 else (0 if -0.05 < score < 0.05 else -1)"
   ]
  },
  {
   "cell_type": "code",
   "execution_count": 53,
   "id": "0e6810bd",
   "metadata": {},
   "outputs": [
    {
     "name": "stdout",
     "output_type": "stream",
     "text": [
      "+--------------+---------+\n",
      "|sentimentScore|sentiment|\n",
      "+--------------+---------+\n",
      "|        0.7081|        1|\n",
      "|        0.4939|        1|\n",
      "|        0.2023|        1|\n",
      "|           0.0|        0|\n",
      "|        0.5083|        1|\n",
      "+--------------+---------+\n",
      "only showing top 5 rows\n",
      "\n"
     ]
    }
   ],
   "source": [
    "udfSentiment = udf(classifierSentiment, IntegerType())\n",
    "df_Class = df_SentimentScore.withColumn('sentiment', udfSentiment('sentimentScore'))\n",
    "df_Class.select('sentimentScore','sentiment').show(5)"
   ]
  },
  {
   "cell_type": "code",
   "execution_count": 54,
   "id": "a8679221",
   "metadata": {},
   "outputs": [],
   "source": [
    "sentimentos_resultado = df_Class.groupby('sentiment').count()"
   ]
  },
  {
   "cell_type": "markdown",
   "id": "275e78d2",
   "metadata": {},
   "source": [
    "## Temos o seguinte resultado:\n",
    "\n",
    "<b>POSITIVO:</b> 23576 tweets <br>\n",
    "<b>NEUTRO:</b>   17271 tweets <br>\n",
    "<b>NEGATIVO:</b>  8237"
   ]
  },
  {
   "cell_type": "code",
   "execution_count": 55,
   "id": "8c7978fd",
   "metadata": {},
   "outputs": [],
   "source": [
    "sentimentos_resultado = sentimentos_resultado.toPandas()"
   ]
  },
  {
   "cell_type": "code",
   "execution_count": 56,
   "id": "08be5145",
   "metadata": {},
   "outputs": [
    {
     "data": {
      "text/html": [
       "<div>\n",
       "<style scoped>\n",
       "    .dataframe tbody tr th:only-of-type {\n",
       "        vertical-align: middle;\n",
       "    }\n",
       "\n",
       "    .dataframe tbody tr th {\n",
       "        vertical-align: top;\n",
       "    }\n",
       "\n",
       "    .dataframe thead th {\n",
       "        text-align: right;\n",
       "    }\n",
       "</style>\n",
       "<table border=\"1\" class=\"dataframe\">\n",
       "  <thead>\n",
       "    <tr style=\"text-align: right;\">\n",
       "      <th></th>\n",
       "      <th>sentiment</th>\n",
       "      <th>count</th>\n",
       "    </tr>\n",
       "  </thead>\n",
       "  <tbody>\n",
       "    <tr>\n",
       "      <th>0</th>\n",
       "      <td>-1</td>\n",
       "      <td>8237</td>\n",
       "    </tr>\n",
       "    <tr>\n",
       "      <th>1</th>\n",
       "      <td>1</td>\n",
       "      <td>23576</td>\n",
       "    </tr>\n",
       "    <tr>\n",
       "      <th>2</th>\n",
       "      <td>0</td>\n",
       "      <td>17271</td>\n",
       "    </tr>\n",
       "  </tbody>\n",
       "</table>\n",
       "</div>"
      ],
      "text/plain": [
       "   sentiment  count\n",
       "0         -1   8237\n",
       "1          1  23576\n",
       "2          0  17271"
      ]
     },
     "execution_count": 56,
     "metadata": {},
     "output_type": "execute_result"
    }
   ],
   "source": [
    "sentimentos_resultado"
   ]
  },
  {
   "cell_type": "code",
   "execution_count": 57,
   "id": "175ad0dd",
   "metadata": {},
   "outputs": [],
   "source": [
    "sentimentos_resultado['sentiment'] = np.where(sentimentos_resultado['sentiment'] == 1, \"Positivo\", np.where(sentimentos_resultado['sentiment'] == 0, \"Neutro\", \"Negativo\" ))"
   ]
  },
  {
   "cell_type": "code",
   "execution_count": 58,
   "id": "d9c1106e",
   "metadata": {},
   "outputs": [],
   "source": [
    "sentimentos_resultado.rename(columns = {'sentiment': 'Sentimento', 'count': 'Total'}, inplace = True)"
   ]
  },
  {
   "cell_type": "code",
   "execution_count": 59,
   "id": "3c6671ce",
   "metadata": {},
   "outputs": [
    {
     "data": {
      "text/html": [
       "<div>\n",
       "<style scoped>\n",
       "    .dataframe tbody tr th:only-of-type {\n",
       "        vertical-align: middle;\n",
       "    }\n",
       "\n",
       "    .dataframe tbody tr th {\n",
       "        vertical-align: top;\n",
       "    }\n",
       "\n",
       "    .dataframe thead th {\n",
       "        text-align: right;\n",
       "    }\n",
       "</style>\n",
       "<table border=\"1\" class=\"dataframe\">\n",
       "  <thead>\n",
       "    <tr style=\"text-align: right;\">\n",
       "      <th></th>\n",
       "      <th>Sentimento</th>\n",
       "      <th>Total</th>\n",
       "    </tr>\n",
       "  </thead>\n",
       "  <tbody>\n",
       "    <tr>\n",
       "      <th>0</th>\n",
       "      <td>Negativo</td>\n",
       "      <td>8237</td>\n",
       "    </tr>\n",
       "    <tr>\n",
       "      <th>1</th>\n",
       "      <td>Positivo</td>\n",
       "      <td>23576</td>\n",
       "    </tr>\n",
       "    <tr>\n",
       "      <th>2</th>\n",
       "      <td>Neutro</td>\n",
       "      <td>17271</td>\n",
       "    </tr>\n",
       "  </tbody>\n",
       "</table>\n",
       "</div>"
      ],
      "text/plain": [
       "  Sentimento  Total\n",
       "0   Negativo   8237\n",
       "1   Positivo  23576\n",
       "2     Neutro  17271"
      ]
     },
     "execution_count": 59,
     "metadata": {},
     "output_type": "execute_result"
    }
   ],
   "source": [
    "sentimentos_resultado"
   ]
  },
  {
   "cell_type": "code",
   "execution_count": 60,
   "id": "a0a9ac37",
   "metadata": {},
   "outputs": [
    {
     "data": {
      "image/png": "[encoded data removed]",
      "text/plain": [
       "<Figure size 640x480 with 1 Axes>"
      ]
     },
     "metadata": {},
     "output_type": "display_data"
    }
   ],
   "source": [
    "sns.barplot(data = sentimentos_resultado, x = 'Sentimento', y = 'Total', palette = 'Blues_r', order = ['Positivo','Neutro','Negativo'])\n",
    "sns.set(style=\"whitegrid\")\n",
    "sns.despine()\n",
    "plt.xlabel(' ')\n",
    "plt.ylabel(' ')\n",
    "title = plt.title('Sentimento no Twitter sobre o ChatGPT')\n",
    "title.set_backgroundcolor('gainsboro')\n",
    "plt.show()"
   ]
  },
  {
   "cell_type": "markdown",
   "id": "c2eb9703",
   "metadata": {},
   "source": [
    "# Sem remover as STOP WORDS"
   ]
  },
  {
   "cell_type": "code",
   "execution_count": 61,
   "id": "bdb880e0",
   "metadata": {},
   "outputs": [
    {
     "name": "stdout",
     "output_type": "stream",
     "text": [
      "+--------------------+--------------------+--------------------+\n",
      "|                Text|               Clean|               words|\n",
      "+--------------------+--------------------+--------------------+\n",
      "|I forgot to play ...|I forgot to play ...|[i, forgot, to, p...|\n",
      "|@AlexandrovnaIng ...| Prohibition of C...|[, prohibition, o...|\n",
      "|Check out what @f...|Check out what   ...|[check, out, what...|\n",
      "|Bow down to chatG...|Bow down to chatG...|[bow, down, to, c...|\n",
      "|The first thing t...|The first thing t...|[the, first, thin...|\n",
      "+--------------------+--------------------+--------------------+\n",
      "only showing top 5 rows\n",
      "\n"
     ]
    }
   ],
   "source": [
    "df_tokenized.show(5)"
   ]
  },
  {
   "cell_type": "code",
   "execution_count": 62,
   "id": "5cc1f90e",
   "metadata": {},
   "outputs": [],
   "source": [
    "df_tokenized_2 = df_tokenized.withColumn(\"tokens\", concat_ws(\",\", col(\"words\")))"
   ]
  },
  {
   "cell_type": "code",
   "execution_count": 63,
   "id": "4f91a9d4",
   "metadata": {},
   "outputs": [],
   "source": [
    "df_tokenized_2 = df_tokenized_2.withColumn(\"tokens\", F.regexp_replace(\"tokens\",',',' '))"
   ]
  },
  {
   "cell_type": "code",
   "execution_count": 64,
   "id": "cf2b5824",
   "metadata": {},
   "outputs": [
    {
     "name": "stdout",
     "output_type": "stream",
     "text": [
      "+--------------+\n",
      "|sentimentScore|\n",
      "+--------------+\n",
      "|        0.5475|\n",
      "|        0.4939|\n",
      "|        0.2023|\n",
      "|           0.0|\n",
      "|        0.5083|\n",
      "+--------------+\n",
      "only showing top 5 rows\n",
      "\n"
     ]
    }
   ],
   "source": [
    "udfSentimentIntensity2 = udf(scoreSentimentIntensity, FloatType())\n",
    "df_SentimentScore2 = df_tokenized_2.withColumn('sentimentScore', udfSentimentIntensity2('tokens'))\n",
    "df_SentimentScore2.select('sentimentScore').show(5)"
   ]
  },
  {
   "cell_type": "code",
   "execution_count": 65,
   "id": "f32ec478",
   "metadata": {},
   "outputs": [
    {
     "name": "stdout",
     "output_type": "stream",
     "text": [
      "+--------------+---------+\n",
      "|sentimentScore|sentiment|\n",
      "+--------------+---------+\n",
      "|        0.5475|        1|\n",
      "|        0.4939|        1|\n",
      "|        0.2023|        1|\n",
      "|           0.0|        0|\n",
      "|        0.5083|        1|\n",
      "+--------------+---------+\n",
      "only showing top 5 rows\n",
      "\n"
     ]
    }
   ],
   "source": [
    "udfSentiment2 = udf(classifierSentiment, IntegerType())\n",
    "df_Class2 = df_SentimentScore2.withColumn('sentiment', udfSentiment('sentimentScore'))\n",
    "df_Class2.select('sentimentScore','sentiment').show(5)"
   ]
  },
  {
   "cell_type": "code",
   "execution_count": 66,
   "id": "b4f13535",
   "metadata": {},
   "outputs": [],
   "source": [
    "sentimentos_resultado2 = df_Class2.groupby('sentiment').count()"
   ]
  },
  {
   "cell_type": "code",
   "execution_count": 67,
   "id": "b87ee5fb",
   "metadata": {},
   "outputs": [],
   "source": [
    "sentimentos_resultado2 = sentimentos_resultado2.toPandas()"
   ]
  },
  {
   "cell_type": "code",
   "execution_count": 68,
   "id": "07f85dd5",
   "metadata": {},
   "outputs": [
    {
     "data": {
      "text/html": [
       "<div>\n",
       "<style scoped>\n",
       "    .dataframe tbody tr th:only-of-type {\n",
       "        vertical-align: middle;\n",
       "    }\n",
       "\n",
       "    .dataframe tbody tr th {\n",
       "        vertical-align: top;\n",
       "    }\n",
       "\n",
       "    .dataframe thead th {\n",
       "        text-align: right;\n",
       "    }\n",
       "</style>\n",
       "<table border=\"1\" class=\"dataframe\">\n",
       "  <thead>\n",
       "    <tr style=\"text-align: right;\">\n",
       "      <th></th>\n",
       "      <th>sentiment</th>\n",
       "      <th>count</th>\n",
       "    </tr>\n",
       "  </thead>\n",
       "  <tbody>\n",
       "    <tr>\n",
       "      <th>0</th>\n",
       "      <td>-1</td>\n",
       "      <td>9111</td>\n",
       "    </tr>\n",
       "    <tr>\n",
       "      <th>1</th>\n",
       "      <td>1</td>\n",
       "      <td>22920</td>\n",
       "    </tr>\n",
       "    <tr>\n",
       "      <th>2</th>\n",
       "      <td>0</td>\n",
       "      <td>17053</td>\n",
       "    </tr>\n",
       "  </tbody>\n",
       "</table>\n",
       "</div>"
      ],
      "text/plain": [
       "   sentiment  count\n",
       "0         -1   9111\n",
       "1          1  22920\n",
       "2          0  17053"
      ]
     },
     "execution_count": 68,
     "metadata": {},
     "output_type": "execute_result"
    }
   ],
   "source": [
    "sentimentos_resultado2"
   ]
  },
  {
   "cell_type": "markdown",
   "id": "ecf7a8c0",
   "metadata": {},
   "source": [
    "## Temos o seguinte resultado:\n",
    "\n",
    "<b>POSITIVO:</b> 22920 tweets <br>\n",
    "<b>NEUTRO:</b>   17053 tweets <br>\n",
    "<b>NEGATIVO:</b>  9111 <br>\n",
    "\n",
    "Tivemos um aumento de 874 tweets considerados negativos. <br>\n",
    "Sendo que diminuiu 656 tweets considerados positivos <br>\n",
    "e 218 a menos considerados neutros.\n",
    "\n"
   ]
  },
  {
   "cell_type": "code",
   "execution_count": 69,
   "id": "58be6a5f",
   "metadata": {},
   "outputs": [],
   "source": [
    "sentimentos_resultado2['sentiment'] = np.where(sentimentos_resultado2['sentiment'] == 1, \"Positivo\", np.where(sentimentos_resultado2['sentiment'] == 0, \"Neutro\", \"Negativo\" ))"
   ]
  },
  {
   "cell_type": "code",
   "execution_count": 70,
   "id": "1887cecb",
   "metadata": {},
   "outputs": [],
   "source": [
    "sentimentos_resultado2.rename(columns = {'sentiment': 'Sentimento', 'count': 'Total'}, inplace = True)"
   ]
  },
  {
   "cell_type": "code",
   "execution_count": 71,
   "id": "53194f15",
   "metadata": {},
   "outputs": [
    {
     "data": {
      "image/png": "[encoded data removed]",
      "text/plain": [
       "<Figure size 640x480 with 1 Axes>"
      ]
     },
     "metadata": {},
     "output_type": "display_data"
    }
   ],
   "source": [
    "sns.barplot(data = sentimentos_resultado2, x = 'Sentimento', y = 'Total', palette = 'Blues_r', order = ['Positivo','Neutro','Negativo'])\n",
    "sns.set(style=\"whitegrid\")\n",
    "sns.despine()\n",
    "plt.xlabel(' ')\n",
    "plt.ylabel(' ')\n",
    "title = plt.title('Sentimento no Twitter sobre o ChatGPT')\n",
    "title.set_backgroundcolor('gainsboro')\n",
    "plt.show()"
   ]
  }
 ],
 "metadata": {
  "kernelspec": {
   "display_name": "Python 3 (ipykernel)",
   "language": "python",
   "name": "python3"
  },
  "language_info": {
   "codemirror_mode": {
    "name": "ipython",
    "version": 3
   },
   "file_extension": ".py",
   "mimetype": "text/x-python",
   "name": "python",
   "nbconvert_exporter": "python",
   "pygments_lexer": "ipython3",
   "version": "3.9.7"
  }
 },
 "nbformat": 4,
 "nbformat_minor": 5
}
