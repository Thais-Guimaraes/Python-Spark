{
 "cells": [
  {
   "cell_type": "code",
   "execution_count": 2,
   "id": "46ce1345",
   "metadata": {},
   "outputs": [],
   "source": [
    "import re\n",
    "from nltk.sentiment.vader import SentimentIntensityAnalyzer\n",
    "from pyspark.ml.feature import StopWordsRemover\n",
    "from pyspark.sql.functions import col, udf\n",
    "from pyspark.sql.types import StringType\n",
    "from pyspark.sql.types import FloatType\n",
    "from pyspark.sql.types import IntegerType\n",
    "from pyspark.ml.feature import Tokenizer, RegexTokenizer\n",
    "\n",
    "import googletrans\n",
    "from googletrans import Translator\n",
    "\n",
    "import pandas as pd"
   ]
  },
  {
   "cell_type": "code",
   "execution_count": 3,
   "id": "1e6bc935",
   "metadata": {},
   "outputs": [],
   "source": [
    "import os\n",
    "import sys\n",
    "os.environ['PYSPARK_PYTHON'] = sys.executable\n",
    "os.environ['PYSPARK_DRIVER_PYTHON'] = sys.executable"
   ]
  },
  {
   "cell_type": "code",
   "execution_count": 4,
   "id": "c36ca227",
   "metadata": {},
   "outputs": [],
   "source": [
    "import findspark\n",
    "findspark.init()\n",
    "from pyspark import SparkContext\n",
    "from pyspark.sql import SparkSession"
   ]
  },
  {
   "cell_type": "code",
   "execution_count": 5,
   "id": "7aab2139",
   "metadata": {},
   "outputs": [],
   "source": [
    "sc2 = SparkContext(appName = 'Projeto4')"
   ]
  },
  {
   "cell_type": "code",
   "execution_count": 6,
   "id": "47ccdfca",
   "metadata": {},
   "outputs": [],
   "source": [
    "spSession2 = SparkSession.builder.master(\"local[1]\").getOrCreate()"
   ]
  },
  {
   "cell_type": "code",
   "execution_count": 7,
   "id": "ab6f6505",
   "metadata": {},
   "outputs": [],
   "source": [
    "def removePattern(inputText, pattern):\n",
    "    r = re.findall(pattern, inputText)\n",
    "    for i in r:\n",
    "        inputText = re.sub(i, '', inputText)        \n",
    "    return inputText\n",
    "\n",
    "def cleanTweet(txt):\n",
    "    '''\n",
    "    Remove twitter return handles (RT @xxx:)\n",
    "    '''\n",
    "    txt = removePattern(txt, 'RT @[\\w]*:')\n",
    "    '''\n",
    "    Remove twitter handles (@xxx)\n",
    "    '''\n",
    "    txt = removePattern(txt, '@[\\w]*')\n",
    "    '''\n",
    "    Remove URL links (httpxxx)\n",
    "    '''\n",
    "    txt = removePattern(txt, 'https?://[A-Za-z0-9./]*')\n",
    "    '''\n",
    "    Remove special characters, numbers, punctuations\n",
    "    '''\n",
    "    txt = re.sub('[^A-Za-z]+', ' ', txt)\n",
    "    return txt\n",
    "\n",
    "def getCleanTweetText(filteredTweetText):\n",
    "    return ' '.join(filteredTweetText)\n",
    "\n",
    "def getSentimentScore(tweetText):\n",
    "    analyzer = SentimentIntensityAnalyzer()\n",
    "    vs = analyzer.polarity_scores(tweetText)\n",
    "    return float(vs['compound'])\n",
    "\n",
    "def getSentiment(score):\n",
    "    return 1 if score > 0 else 0\n",
    "\n",
    "\n",
    "def getTweetArray(tweet):\n",
    "    return tweet.split(' ')"
   ]
  },
  {
   "cell_type": "code",
   "execution_count": null,
   "id": "0cb5aa74",
   "metadata": {},
   "outputs": [],
   "source": []
  },
  {
   "cell_type": "code",
   "execution_count": 8,
   "id": "86caa5fe",
   "metadata": {},
   "outputs": [],
   "source": [
    "dados2 = (spSession2.read\n",
    "      .option(\"multiline\", \"true\") # alguns registros estão em mais de uma linha\n",
    "      .option(\"quote\", '\"') # informando que temos as aspas para separar o texto (q tem virgula dentro) para nao impactar o delimitador\n",
    "      .option(\"header\", \"true\") \n",
    "      .option(\"escape\", '\"') # separando caracteres especiais\n",
    "      .csv('dados/chatgpt1.csv')\n",
    ")"
   ]
  },
  {
   "cell_type": "code",
   "execution_count": 9,
   "id": "d7d99bc0",
   "metadata": {},
   "outputs": [
    {
     "name": "stdout",
     "output_type": "stream",
     "text": [
      "+-------------------------+-------------------+---------------------------------------------------------------------------------------------------------------------------------------------------------------------------------------------------------------------------------------------------------------------------------------------------------------------------------------+---------------+--------------------------------------------------------------+-----------------------------------+--------------------------------------------------------------------------------------------------------------------------------------------------------------------------------------------------------------------------------------------------------------------------------------------------------------------+------------------------------------------------------+----------+------------+---------+----------+-------------------+--------+------------------------------------------------------------------------------------+--------------------------------------------------------------------------------------------------------------------------------------------------------------------------------------------------------------------------------------------------------------------------------------------------------------------------------------------------------------------------------------------------------------------------------------------------------------------------------------------------------------------------------------------------------------------------------------------------------------------------------------------------------------------------------+----------------------------------------------------------+--------------------------------------------------------------------------------------------------------------------------------------------------------------------------------------------------------------------------------------------------------------------------------------------------------------------------------------------------------------------------------------------------------------------------------------------------------------------------------------------------------------------------------------------------------------------------------------------------------------------------------------------------------------------------------------------------------------------------------------------------------------------------------------------------------------------------------------------------------------------------------------------------------------------------------------------------------------------------------------------------------------------------------------------------------------------------------------------------------------------------------------------------------------------------------------------------------------------------------------------------------------------------------------------------------------------------------------------------------------------------------------------------------------------------------------------------------------------------------------------------------------------------------------------------------------------------------------------------------------------------------------------------------+--------------------------------------------------------------------------------------------------------------------------------------------------------------------+-------------+\n",
      "|Datetime                 |Tweet Id           |Text                                                                                                                                                                                                                                                                                                                                   |Username       |Permalink                                                     |User                               |Outlinks                                                                                                                                                                                                                                                                                                            |CountLinks                                            |ReplyCount|RetweetCount|LikeCount|QuoteCount|ConversationId     |Language|Source                                                                              |Media                                                                                                                                                                                                                                                                                                                                                                                                                                                                                                                                                                                                                                                                           |QuotedTweet                                               |MentionedUsers                                                                                                                                                                                                                                                                                                                                                                                                                                                                                                                                                                                                                                                                                                                                                                                                                                                                                                                                                                                                                                                                                                                                                                                                                                                                                                                                                                                                                                                                                                                                                                                                                                          |hashtag                                                                                                                                                             |hastag_counts|\n",
      "+-------------------------+-------------------+---------------------------------------------------------------------------------------------------------------------------------------------------------------------------------------------------------------------------------------------------------------------------------------------------------------------------------------+---------------+--------------------------------------------------------------+-----------------------------------+--------------------------------------------------------------------------------------------------------------------------------------------------------------------------------------------------------------------------------------------------------------------------------------------------------------------+------------------------------------------------------+----------+------------+---------+----------+-------------------+--------+------------------------------------------------------------------------------------+--------------------------------------------------------------------------------------------------------------------------------------------------------------------------------------------------------------------------------------------------------------------------------------------------------------------------------------------------------------------------------------------------------------------------------------------------------------------------------------------------------------------------------------------------------------------------------------------------------------------------------------------------------------------------------+----------------------------------------------------------+--------------------------------------------------------------------------------------------------------------------------------------------------------------------------------------------------------------------------------------------------------------------------------------------------------------------------------------------------------------------------------------------------------------------------------------------------------------------------------------------------------------------------------------------------------------------------------------------------------------------------------------------------------------------------------------------------------------------------------------------------------------------------------------------------------------------------------------------------------------------------------------------------------------------------------------------------------------------------------------------------------------------------------------------------------------------------------------------------------------------------------------------------------------------------------------------------------------------------------------------------------------------------------------------------------------------------------------------------------------------------------------------------------------------------------------------------------------------------------------------------------------------------------------------------------------------------------------------------------------------------------------------------------+--------------------------------------------------------------------------------------------------------------------------------------------------------------------+-------------+\n",
      "|2023-01-22 13:44:34+00:00|1617156270871699456|ChatGPTで遊ぶの忘れてた！！\\n書類作るコード書いてみてほしいのと、\\nどこまで思考整理付き合ってくれるのかと、\\nウミガメのスープやってみたい。\\nあとは調べ物してくれ。\\n事務所でちょいといじったが、とりあえず色々やってみたい。                                                                                                          |mochico0123    |https://twitter.com/mochico0123/status/1617156270871699456    |https://twitter.com/mochico0123    |null                                                                                                                                                                                                                                                                                                                |null                                                  |1         |0           |5        |0         |1617156270871699456|ja      |<a href=\"http://twitter.com/download/iphone\" rel=\"nofollow\">Twitter for iPhone</a>  |null                                                                                                                                                                                                                                                                                                                                                                                                                                                                                                                                                                                                                                                                            |null                                                      |null                                                                                                                                                                                                                                                                                                                                                                                                                                                                                                                                                                                                                                                                                                                                                                                                                                                                                                                                                                                                                                                                                                                                                                                                                                                                                                                                                                                                                                                                                                                                                                                                                                                    |[]                                                                                                                                                                  |0            |\n",
      "|2023-01-22 13:44:39+00:00|1617156291046133761|@AlexandrovnaIng Prohibition of ChatGPT has been added to the honor code of my daughter’s school                                                                                                                                                                                                                                       |Caput_LupinumSG|https://twitter.com/Caput_LupinumSG/status/1617156291046133761|https://twitter.com/Caput_LupinumSG|null                                                                                                                                                                                                                                                                                                                |null                                                  |1         |0           |5        |0         |1617148639993806848|en      |<a href=\"http://twitter.com/download/iphone\" rel=\"nofollow\">Twitter for iPhone</a>  |null                                                                                                                                                                                                                                                                                                                                                                                                                                                                                                                                                                                                                                                                            |null                                                      |[User(username='AlexandrovnaIng', id=2827059006, displayname='Alexandrovna', description=None, rawDescription=None, descriptionUrls=None, verified=None, created=None, followersCount=None, friendsCount=None, statusesCount=None, favouritesCount=None, listedCount=None, mediaCount=None, location=None, protected=None, linkUrl=None, linkTcourl=None, profileImageUrl=None, profileBannerUrl=None, label=None)]                                                                                                                                                                                                                                                                                                                                                                                                                                                                                                                                                                                                                                                                                                                                                                                                                                                                                                                                                                                                                                                                                                                                                                                                                                     |[]                                                                                                                                                                  |0            |\n",
      "|2023-01-22 13:44:44+00:00|1617156308926349312|Schaut Euch an, was @fobizz @DianaKnodel alles ⬇️ auf die Piste bringt, um Euch mitzunehmen. \\n\\nMorgen startet @reg_schulz - und am Di um 12 besprechen wir #ChatGPT als kritische FreundInnen im Live-Briefing mit SPD-Vorsitzender @EskenSaskia &amp; Diana\\nhttps://t.co/DsoeVJrPBp https://t.co/HflTruResk https://t.co/7tYCx6Srp8|ciffi          |https://twitter.com/ciffi/status/1617156308926349312          |https://twitter.com/ciffi          |['https://us02web.zoom.us/webinar/register/8016723032829/WN_w_ObSIzWSL2X2EEOThSbdw', 'https://twitter.com/DianaKnodel/status/1617153572654944259']                                                                                                                                                                  |['https://t.co/DsoeVJrPBp', 'https://t.co/HflTruResk']|0         |0           |4        |0         |1617156308926349312|de      |<a href=\"http://twitter.com/#!/download/ipad\" rel=\"nofollow\">Twitter for iPad</a>   |[Photo(previewUrl='https://pbs.twimg.com/media/FnFLF3SWIAAtThd?format=jpg&name=small', fullUrl='https://pbs.twimg.com/media/FnFLF3SWIAAtThd?format=jpg&name=large')]                                                                                                                                                                                                                                                                                                                                                                                                                                                                                                            |https://twitter.com/DianaKnodel/status/1617153572654944259|[User(username='fobizz', id=884708145792253952, displayname='fobizz', description=None, rawDescription=None, descriptionUrls=None, verified=None, created=None, followersCount=None, friendsCount=None, statusesCount=None, favouritesCount=None, listedCount=None, mediaCount=None, location=None, protected=None, linkUrl=None, linkTcourl=None, profileImageUrl=None, profileBannerUrl=None, label=None), User(username='DianaKnodel', id=439879932, displayname='Diana Knodel', description=None, rawDescription=None, descriptionUrls=None, verified=None, created=None, followersCount=None, friendsCount=None, statusesCount=None, favouritesCount=None, listedCount=None, mediaCount=None, location=None, protected=None, linkUrl=None, linkTcourl=None, profileImageUrl=None, profileBannerUrl=None, label=None), User(username='reg_schulz', id=2172945577, displayname='Regina Schulz', description=None, rawDescription=None, descriptionUrls=None, verified=None, created=None, followersCount=None, friendsCount=None, statusesCount=None, favouritesCount=None, listedCount=None, mediaCount=None, location=None, protected=None, linkUrl=None, linkTcourl=None, profileImageUrl=None, profileBannerUrl=None, label=None), User(username='EskenSaskia', id=1423622834, displayname='Saskia Esken', description=None, rawDescription=None, descriptionUrls=None, verified=None, created=None, followersCount=None, friendsCount=None, statusesCount=None, favouritesCount=None, listedCount=None, mediaCount=None, location=None, protected=None, linkUrl=None, linkTcourl=None, profileImageUrl=None, profileBannerUrl=None, label=None)]|['#ChatGPT']                                                                                                                                                        |1            |\n",
      "|2023-01-22 13:44:49+00:00|1617156332297256961|Bow down to chatGPT 🫡..... https://t.co/ENTSzi2AQ9                                                                                                                                                                                                                                                                                    |Vishwasrisiri  |https://twitter.com/Vishwasrisiri/status/1617156332297256961  |https://twitter.com/Vishwasrisiri  |['https://twitter.com/agadmator/status/1617155017638543361']                                                                                                                                                                                                                                                        |['https://t.co/ENTSzi2AQ9']                           |0         |0           |2        |0         |1617156332297256961|en      |<a href=\"http://twitter.com/download/android\" rel=\"nofollow\">Twitter for Android</a>|null                                                                                                                                                                                                                                                                                                                                                                                                                                                                                                                                                                                                                                                                            |https://twitter.com/agadmator/status/1617155017638543361  |null                                                                                                                                                                                                                                                                                                                                                                                                                                                                                                                                                                                                                                                                                                                                                                                                                                                                                                                                                                                                                                                                                                                                                                                                                                                                                                                                                                                                                                                                                                                                                                                                                                                    |[]                                                                                                                                                                  |0            |\n",
      "|2023-01-22 13:44:52+00:00|1617156345064570880|Profilinde vatan, Türkiye falan yazan bireylerin ilk koruduğu şey ülkenin dini falan. Asla şaşmaz bu. Chatgpt yaz bunu bi kenara 😂                                                                                                                                                                                                    |0xGenetikciniz |https://twitter.com/0xGenetikciniz/status/1617156345064570880 |https://twitter.com/0xGenetikciniz |null                                                                                                                                                                                                                                                                                                                |null                                                  |0         |0           |4        |0         |1617156345064570880|tr      |<a href=\"http://twitter.com/download/iphone\" rel=\"nofollow\">Twitter for iPhone</a>  |null                                                                                                                                                                                                                                                                                                                                                                                                                                                                                                                                                                                                                                                                            |null                                                      |null                                                                                                                                                                                                                                                                                                                                                                                                                                                                                                                                                                                                                                                                                                                                                                                                                                                                                                                                                                                                                                                                                                                                                                                                                                                                                                                                                                                                                                                                                                                                                                                                                                                    |[]                                                                                                                                                                  |0            |\n",
      "|2023-01-22 13:45:00+00:00|1617156376983207937|ChatGPT’nin bilinmeyen arka planı: Ucuz iş gücü\\n\\nÇeviri: Evrim Şaşmaz\\n\\nhttps://t.co/daAyOpRLiM                                                                                                                                                                                                                                     |GazeteKarinca  |https://twitter.com/GazeteKarinca/status/1617156376983207937  |https://twitter.com/GazeteKarinca  |['https://gazetekarinca.com/chatgptnin-bilinmeyen-arka-plani-ucuz-is-gucu/']                                                                                                                                                                                                                                        |['https://t.co/daAyOpRLiM']                           |0         |0           |1        |0         |1617156376983207937|tr      |<a href=\"https://about.twitter.com/products/tweetdeck\" rel=\"nofollow\">TweetDeck</a> |null                                                                                                                                                                                                                                                                                                                                                                                                                                                                                                                                                                                                                                                                            |null                                                      |null                                                                                                                                                                                                                                                                                                                                                                                                                                                                                                                                                                                                                                                                                                                                                                                                                                                                                                                                                                                                                                                                                                                                                                                                                                                                                                                                                                                                                                                                                                                                                                                                                                                    |[]                                                                                                                                                                  |0            |\n",
      "|2023-01-22 13:45:03+00:00|1617156389217894400|ChatGPT runs 10K Nvidia training GPUs with potential for thousands more https://t.co/Uhq62t0Uw4                                                                                                                                                                                                                                        |FierceElectron |https://twitter.com/FierceElectron/status/1617156389217894400 |https://twitter.com/FierceElectron |['https://www.fierceelectronics.com/sensors/chatgpt-runs-10k-nvidia-training-gpus-potential-thousands-more']                                                                                                                                                                                                        |['https://t.co/Uhq62t0Uw4']                           |0         |0           |0        |0         |1617156389217894400|en      |<a href=\"https://mobile.twitter.com\" rel=\"nofollow\">Twitter Web App</a>             |null                                                                                                                                                                                                                                                                                                                                                                                                                                                                                                                                                                                                                                                                            |null                                                      |null                                                                                                                                                                                                                                                                                                                                                                                                                                                                                                                                                                                                                                                                                                                                                                                                                                                                                                                                                                                                                                                                                                                                                                                                                                                                                                                                                                                                                                                                                                                                                                                                                                                    |[]                                                                                                                                                                  |0            |\n",
      "|2023-01-22 13:45:04+00:00|1617156393898745858|@SWENGDAD There is repetitive work in every job, there are lots of small tasks that can leverage chatgpt or copilot and keep you working at a higher level of abstraction.                                                                                                                                                             |xlr8harder     |https://twitter.com/xlr8harder/status/1617156393898745858     |https://twitter.com/xlr8harder     |null                                                                                                                                                                                                                                                                                                                |null                                                  |1         |0           |3        |0         |1617149595901104130|en      |<a href=\"https://mobile.twitter.com\" rel=\"nofollow\">Twitter Web App</a>             |null                                                                                                                                                                                                                                                                                                                                                                                                                                                                                                                                                                                                                                                                            |null                                                      |[User(username='SWENGDAD', id=1460452950875193348, displayname='normie macdonald 🇺🇲', description=None, rawDescription=None, descriptionUrls=None, verified=None, created=None, followersCount=None, friendsCount=None, statusesCount=None, favouritesCount=None, listedCount=None, mediaCount=None, location=None, protected=None, linkUrl=None, linkTcourl=None, profileImageUrl=None, profileBannerUrl=None, label=None)]                                                                                                                                                                                                                                                                                                                                                                                                                                                                                                                                                                                                                                                                                                                                                                                                                                                                                                                                                                                                                                                                                                                                                                                                                          |[]                                                                                                                                                                  |0            |\n",
      "|2023-01-22 13:45:06+00:00|1617156404137295878|I created a fictional jewelry brand using ChatGPT and Midjourney.\\n\\nhttps://t.co/gtWdNZ0laM\\n\\n#ChatGPT #midjourney https://t.co/N5hlelZpTY                                                                                                                                                                                           |Kosuke_dazo    |https://twitter.com/Kosuke_dazo/status/1617156404137295878    |https://twitter.com/Kosuke_dazo    |['https://oriori.my.canva.site/']                                                                                                                                                                                                                                                                                   |['https://t.co/gtWdNZ0laM']                           |0         |1           |2        |1         |1617156404137295878|en      |<a href=\"http://twitter.com/download/iphone\" rel=\"nofollow\">Twitter for iPhone</a>  |[Photo(previewUrl='https://pbs.twimg.com/media/FnFLLMhaEAAXeSF?format=jpg&name=small', fullUrl='https://pbs.twimg.com/media/FnFLLMhaEAAXeSF?format=jpg&name=large'), Photo(previewUrl='https://pbs.twimg.com/media/FnFLLMjaUAUZ_-h?format=jpg&name=small', fullUrl='https://pbs.twimg.com/media/FnFLLMjaUAUZ_-h?format=jpg&name=large'), Photo(previewUrl='https://pbs.twimg.com/media/FnFLLMkaYAAa5tF?format=jpg&name=small', fullUrl='https://pbs.twimg.com/media/FnFLLMkaYAAa5tF?format=jpg&name=large'), Photo(previewUrl='https://pbs.twimg.com/media/FnFLLMiacAAttvJ?format=jpg&name=small', fullUrl='https://pbs.twimg.com/media/FnFLLMiacAAttvJ?format=jpg&name=large')]|null                                                      |null                                                                                                                                                                                                                                                                                                                                                                                                                                                                                                                                                                                                                                                                                                                                                                                                                                                                                                                                                                                                                                                                                                                                                                                                                                                                                                                                                                                                                                                                                                                                                                                                                                                    |['#ChatGPT', '#midjourney']                                                                                                                                         |2            |\n",
      "|2023-01-22 13:45:07+00:00|1617156405869379585|It will look similar to irobot. The company will install a mini fridge size computer, you will be able to make a phone call, hands free no phone visible. You and the conversation will move room to room... SmartHome #ChatGPT https://t.co/2VBVDNEjpL                                                                                |EricRIngram    |https://twitter.com/EricRIngram/status/1617156405869379585    |https://twitter.com/EricRIngram    |null                                                                                                                                                                                                                                                                                                                |null                                                  |0         |0           |0        |0         |1617156405869379585|en      |<a href=\"http://twitter.com/download/android\" rel=\"nofollow\">Twitter for Android</a>|[Photo(previewUrl='https://pbs.twimg.com/media/FnFLLmLXwAEOxmL?format=jpg&name=small', fullUrl='https://pbs.twimg.com/media/FnFLLmLXwAEOxmL?format=jpg&name=large')]                                                                                                                                                                                                                                                                                                                                                                                                                                                                                                            |null                                                      |null                                                                                                                                                                                                                                                                                                                                                                                                                                                                                                                                                                                                                                                                                                                                                                                                                                                                                                                                                                                                                                                                                                                                                                                                                                                                                                                                                                                                                                                                                                                                                                                                                                                    |['#ChatGPT']                                                                                                                                                        |1            |\n",
      "|2023-01-22 13:45:07+00:00|1617156409254375434|If you ever played a game like assassin’s creed odyssey or Valhalla or any other rpg where a tour guide will be with you throughout the game helping you navigate the virtual world. \\n\\nAI systems like chatgpt will play that guide role for you in real life!                                                                       |isree1998      |https://twitter.com/isree1998/status/1617156409254375434      |https://twitter.com/isree1998      |null                                                                                                                                                                                                                                                                                                                |null                                                  |0         |0           |0        |1         |1617156409254375434|en      |<a href=\"http://twitter.com/download/iphone\" rel=\"nofollow\">Twitter for iPhone</a>  |null                                                                                                                                                                                                                                                                                                                                                                                                                                                                                                                                                                                                                                                                            |null                                                      |null                                                                                                                                                                                                                                                                                                                                                                                                                                                                                                                                                                                                                                                                                                                                                                                                                                                                                                                                                                                                                                                                                                                                                                                                                                                                                                                                                                                                                                                                                                                                                                                                                                                    |[]                                                                                                                                                                  |0            |\n",
      "|2023-01-22 13:45:08+00:00|1617156410634010624|AI will initiate a new era of entrepreneurship. A thesis.\\n\\n#ChatGPT #visionary #ArtificialIntelligence #future \\n\\nhttps://t.co/yxpj9w7QcY                                                                                                                                                                                           |IsEgaley       |https://twitter.com/IsEgaley/status/1617156410634010624       |https://twitter.com/IsEgaley       |['https://open.substack.com/pub/adseq/p/ai-will-initiate-a-new-era-of-entrepreneurship?r=1xg1n2&utm_campaign=post&utm_medium=web']                                                                                                                                                                                  |['https://t.co/yxpj9w7QcY']                           |0         |0           |0        |0         |1617156410634010624|en      |<a href=\"https://mobile.twitter.com\" rel=\"nofollow\">Twitter Web App</a>             |null                                                                                                                                                                                                                                                                                                                                                                                                                                                                                                                                                                                                                                                                            |null                                                      |null                                                                                                                                                                                                                                                                                                                                                                                                                                                                                                                                                                                                                                                                                                                                                                                                                                                                                                                                                                                                                                                                                                                                                                                                                                                                                                                                                                                                                                                                                                                                                                                                                                                    |['#ChatGPT', '#visionary', '#ArtificialIntelligence', '#future']                                                                                                    |4            |\n",
      "|2023-01-22 13:45:10+00:00|1617156421719838721|最新コメント15件（01/22 22:45）\\n\\n【1月17日 登録記事】AzureでChatGPTが利用可能に、近日公開　「Azure OpenAI Service」一般提供スタート｜ナウティスニュースhttps://t.co/5dTba8AoXr                                                                                                                                                       |nowtice_news2  |https://twitter.com/nowtice_news2/status/1617156421719838721  |https://twitter.com/nowtice_news2  |['https://nowtice-news.net/3415821/']                                                                                                                                                                                                                                                                               |['https://t.co/5dTba8AoXr']                           |0         |0           |0        |0         |1617156421719838721|ja      |<a href=\"https://nowtice.net/\" rel=\"nofollow\">nowtice_news</a>                      |null                                                                                                                                                                                                                                                                                                                                                                                                                                                                                                                                                                                                                                                                            |null                                                      |null                                                                                                                                                                                                                                                                                                                                                                                                                                                                                                                                                                                                                                                                                                                                                                                                                                                                                                                                                                                                                                                                                                                                                                                                                                                                                                                                                                                                                                                                                                                                                                                                                                                    |[]                                                                                                                                                                  |0            |\n",
      "|2023-01-22 13:45:12+00:00|1617156430183776257|Są dobre i złe wieści na temat ChatGPT.\\n\\n✅ OpenAI wspomina, że ChatGPT będzie darmowy, ale... trzeba będzie niekiedy stać w kolejce\\n\\n✅ Nie będzie rozliczania per request\\n\\n✅ Jest ogromna szansa, że nie potrzebujesz wersji PRO\\n\\n❌ Proponowana cena jest WYSOKA dla zwykłego usera https://t.co/pQZzlodGJs                    |uwteam         |https://twitter.com/uwteam/status/1617156430183776257         |https://twitter.com/uwteam         |null                                                                                                                                                                                                                                                                                                                |null                                                  |23        |5           |66       |1         |1617156430183776257|pl      |<a href=\"http://twitter.com/download/iphone\" rel=\"nofollow\">Twitter for iPhone</a>  |[Photo(previewUrl='https://pbs.twimg.com/media/FnFLMzWXoAAYyaq?format=jpg&name=small', fullUrl='https://pbs.twimg.com/media/FnFLMzWXoAAYyaq?format=jpg&name=large')]                                                                                                                                                                                                                                                                                                                                                                                                                                                                                                            |null                                                      |null                                                                                                                                                                                                                                                                                                                                                                                                                                                                                                                                                                                                                                                                                                                                                                                                                                                                                                                                                                                                                                                                                                                                                                                                                                                                                                                                                                                                                                                                                                                                                                                                                                                    |[]                                                                                                                                                                  |0            |\n",
      "|2023-01-22 13:45:14+00:00|1617156438706556928|#ChatGPT wydaje na operację w chmurze 3 mln dolarów dziennie, zgadnijcie u kogo? U drugiego największego dostawcy cloud computing na świecie - @Microsoft. Dodatkowo, gigant wykupi 49% akcji firmy za 10 mld dolarów. \\n\\nAI zabije klasyczne wyszukiwarki, cel Microsoftu zrealizowany. https://t.co/6H9tzA4SGb                      |PetrosTovmasyan|https://twitter.com/PetrosTovmasyan/status/1617156438706556928|https://twitter.com/PetrosTovmasyan|null                                                                                                                                                                                                                                                                                                                |null                                                  |4         |1           |5        |1         |1617156438706556928|pl      |<a href=\"http://twitter.com/download/android\" rel=\"nofollow\">Twitter for Android</a>|[Photo(previewUrl='https://pbs.twimg.com/media/FnFLNe0WAAAqrxI?format=png&name=small', fullUrl='https://pbs.twimg.com/media/FnFLNe0WAAAqrxI?format=png&name=large')]                                                                                                                                                                                                                                                                                                                                                                                                                                                                                                            |null                                                      |[User(username='Microsoft', id=74286565, displayname='Microsoft', description=None, rawDescription=None, descriptionUrls=None, verified=None, created=None, followersCount=None, friendsCount=None, statusesCount=None, favouritesCount=None, listedCount=None, mediaCount=None, location=None, protected=None, linkUrl=None, linkTcourl=None, profileImageUrl=None, profileBannerUrl=None, label=None)]                                                                                                                                                                                                                                                                                                                                                                                                                                                                                                                                                                                                                                                                                                                                                                                                                                                                                                                                                                                                                                                                                                                                                                                                                                                |['#ChatGPT']                                                                                                                                                        |1            |\n",
      "|2023-01-22 13:45:15+00:00|1617156441420271618|🤯 #ChatGPT writes excel formulas!\\n\\n#MicrosoftEDU #MIEExpert #EdTech #EduTech #EduTwitter #ETCoaches #BlendedLearning #EduCoach #eLearning #21stCenturySkills\\n\\nhttps://t.co/aBiphFuQWM                                                                                                                                             |JakeMillerTech |https://twitter.com/JakeMillerTech/status/1617156441420271618 |https://twitter.com/JakeMillerTech |['https://twitter.com/mtholfsen/status/1616588794391822336?s=12']                                                                                                                                                                                                                                                   |['https://t.co/aBiphFuQWM']                           |0         |6           |20       |2         |1617156441420271618|en      |<a href=\"https://smarterqueue.com\" rel=\"nofollow\">SmarterQueue</a>                  |null                                                                                                                                                                                                                                                                                                                                                                                                                                                                                                                                                                                                                                                                            |https://twitter.com/mtholfsen/status/1616588794391822336  |null                                                                                                                                                                                                                                                                                                                                                                                                                                                                                                                                                                                                                                                                                                                                                                                                                                                                                                                                                                                                                                                                                                                                                                                                                                                                                                                                                                                                                                                                                                                                                                                                                                                    |['#ChatGPT', '#MicrosoftEDU', '#MIEExpert', '#EdTech', '#EduTech', '#EduTwitter', '#ETCoaches', '#BlendedLearning', '#EduCoach', '#eLearning', '#21stCenturySkills']|11           |\n",
      "|2023-01-22 13:45:18+00:00|1617156454141534212|J'ai juste demander à l'IA chatGPT de faire un tweet guettez la bastos que jme prend ptdrrrr https://t.co/0Yrc1bAAZL                                                                                                                                                                                                                   |Veskii_        |https://twitter.com/Veskii_/status/1617156454141534212        |https://twitter.com/Veskii_        |null                                                                                                                                                                                                                                                                                                                |null                                                  |37        |542         |9125     |15        |1617156454141534212|fr      |<a href=\"https://mobile.twitter.com\" rel=\"nofollow\">Twitter Web App</a>             |[Photo(previewUrl='https://pbs.twimg.com/media/FnFK9CfXEAIbNxE?format=jpg&name=small', fullUrl='https://pbs.twimg.com/media/FnFK9CfXEAIbNxE?format=jpg&name=large')]                                                                                                                                                                                                                                                                                                                                                                                                                                                                                                            |null                                                      |null                                                                                                                                                                                                                                                                                                                                                                                                                                                                                                                                                                                                                                                                                                                                                                                                                                                                                                                                                                                                                                                                                                                                                                                                                                                                                                                                                                                                                                                                                                                                                                                                                                                    |[]                                                                                                                                                                  |0            |\n",
      "|2023-01-22 13:45:22+00:00|1617156468951732231|Google Presenta Sparrow, Su Inteligencia Artificial que Competirá con ChatGPT https://t.co/nUzgLHEoAs a través de @culturainform                                                                                                                                                                                                       |varelapma      |https://twitter.com/varelapma/status/1617156468951732231      |https://twitter.com/varelapma      |['https://cultura-informatica.com/google/google-presenta-sparrow-ia/']                                                                                                                                                                                                                                              |['https://t.co/nUzgLHEoAs']                           |0         |0           |1        |0         |1617156468951732231|es      |<a href=\"https://mobile.twitter.com\" rel=\"nofollow\">Twitter Web App</a>             |null                                                                                                                                                                                                                                                                                                                                                                                                                                                                                                                                                                                                                                                                            |null                                                      |[User(username='culturainform', id=1374981101563883522, displayname='Cultura Informática Oficial', description=None, rawDescription=None, descriptionUrls=None, verified=None, created=None, followersCount=None, friendsCount=None, statusesCount=None, favouritesCount=None, listedCount=None, mediaCount=None, location=None, protected=None, linkUrl=None, linkTcourl=None, profileImageUrl=None, profileBannerUrl=None, label=None)]                                                                                                                                                                                                                                                                                                                                                                                                                                                                                                                                                                                                                                                                                                                                                                                                                                                                                                                                                                                                                                                                                                                                                                                                               |[]                                                                                                                                                                  |0            |\n",
      "|2023-01-22 13:45:26+00:00|1617156485846368257|Pay $42 per month or start using your brain again.\\n\\nChatGPT is paid now.... 😂\\n\\n#letsconnect                                                                                                                                                                                                                                       |5mintalkaysh   |https://twitter.com/5mintalkaysh/status/1617156485846368257   |https://twitter.com/5mintalkaysh   |null                                                                                                                                                                                                                                                                                                                |null                                                  |2         |0           |0        |1         |1617156485846368257|en      |<a href=\"http://twitter.com/download/android\" rel=\"nofollow\">Twitter for Android</a>|null                                                                                                                                                                                                                                                                                                                                                                                                                                                                                                                                                                                                                                                                            |null                                                      |null                                                                                                                                                                                                                                                                                                                                                                                                                                                                                                                                                                                                                                                                                                                                                                                                                                                                                                                                                                                                                                                                                                                                                                                                                                                                                                                                                                                                                                                                                                                                                                                                                                                    |['#letsconnect']                                                                                                                                                    |1            |\n",
      "|2023-01-22 13:45:32+00:00|1617156511733780483|Your own AI knowledge base chatbot with OpenAI without Fine-Tuning\\nhttps://t.co/4uK6T3mhM9\\nOverview / Motivation  ChatGPT is a strong AI chatbot but it cannot answer based on our own knowledge base. Everyone is wondering if we had our own AI but it still \\nhttps://t.co/eCtNRa8nDe                                             |M157q_News_RSS |https://twitter.com/M157q_News_RSS/status/1617156511733780483 |https://twitter.com/M157q_News_RSS |['https://dev.to/ku6ryo/your-own-ai-knowledge-base-catbot-with-openai-without-fine-tuning-2i1l', 'https://res.cloudinary.com/practicaldev/image/fetch/s--pDOXIYlg--/c_limit%252Cf_auto%252Cfl_progressive%252Cq_auto%252Cw_880/https%3A//dev-to-uploads.s3.amazonaws.com/uploads/articles/jpoancioubzdt62wrhcb.png']|['https://t.co/4uK6T3mhM9', 'https://t.co/eCtNRa8nDe']|1         |0           |0        |0         |1617156511733780483|en      |<a href=\"https://github.com/M157q/py-feedr\" rel=\"nofollow\">py-feedr-M157q</a>       |null                                                                                                                                                                                                                                                                                                                                                                                                                                                                                                                                                                                                                                                                            |null                                                      |null                                                                                                                                                                                                                                                                                                                                                                                                                                                                                                                                                                                                                                                                                                                                                                                                                                                                                                                                                                                                                                                                                                                                                                                                                                                                                                                                                                                                                                                                                                                                                                                                                                                    |[]                                                                                                                                                                  |0            |\n",
      "+-------------------------+-------------------+---------------------------------------------------------------------------------------------------------------------------------------------------------------------------------------------------------------------------------------------------------------------------------------------------------------------------------------+---------------+--------------------------------------------------------------+-----------------------------------+--------------------------------------------------------------------------------------------------------------------------------------------------------------------------------------------------------------------------------------------------------------------------------------------------------------------+------------------------------------------------------+----------+------------+---------+----------+-------------------+--------+------------------------------------------------------------------------------------+--------------------------------------------------------------------------------------------------------------------------------------------------------------------------------------------------------------------------------------------------------------------------------------------------------------------------------------------------------------------------------------------------------------------------------------------------------------------------------------------------------------------------------------------------------------------------------------------------------------------------------------------------------------------------------+----------------------------------------------------------+--------------------------------------------------------------------------------------------------------------------------------------------------------------------------------------------------------------------------------------------------------------------------------------------------------------------------------------------------------------------------------------------------------------------------------------------------------------------------------------------------------------------------------------------------------------------------------------------------------------------------------------------------------------------------------------------------------------------------------------------------------------------------------------------------------------------------------------------------------------------------------------------------------------------------------------------------------------------------------------------------------------------------------------------------------------------------------------------------------------------------------------------------------------------------------------------------------------------------------------------------------------------------------------------------------------------------------------------------------------------------------------------------------------------------------------------------------------------------------------------------------------------------------------------------------------------------------------------------------------------------------------------------------+--------------------------------------------------------------------------------------------------------------------------------------------------------------------+-------------+\n",
      "only showing top 20 rows\n",
      "\n"
     ]
    }
   ],
   "source": [
    "dados2.show(truncate = False)"
   ]
  },
  {
   "cell_type": "code",
   "execution_count": 10,
   "id": "bac31855",
   "metadata": {},
   "outputs": [],
   "source": [
    "pandasDF = dados2.toPandas()"
   ]
  },
  {
   "cell_type": "code",
   "execution_count": 25,
   "id": "a6283009",
   "metadata": {},
   "outputs": [
    {
     "data": {
      "text/plain": [
       "50001"
      ]
     },
     "execution_count": 25,
     "metadata": {},
     "output_type": "execute_result"
    }
   ],
   "source": [
    "len(pandasDF)"
   ]
  },
  {
   "cell_type": "code",
   "execution_count": 11,
   "id": "a7dbeda9",
   "metadata": {},
   "outputs": [
    {
     "data": {
      "text/plain": [
       "array(['ja', 'en', 'de', 'tr', 'pl', 'fr', 'es', 'pt', 'lo', 'no', 'ca',\n",
       "       'zh', 'qme', 'th', 'ne', 'ko', 'und', 'nl', 'fa', 'it', 'da', 'fi',\n",
       "       'eu', 'hi', 'ar', 'sv', 'in', 'ru', 'qht', 'tl', 'hu', 'cs', 'uk',\n",
       "       'iw', 'et', 'cy', 'bg', 'ht', 'el', 'vi', 'sl', 'kn', 'ro', 'lt',\n",
       "       'ur', 'zxx', 'ml', 'mr', 'lv', 'gu', 'qam', 'is', 'ta', 'te', 'pa',\n",
       "       'sd', 'am', 'sr', 'hy', 'or', 'bn'], dtype=object)"
      ]
     },
     "execution_count": 11,
     "metadata": {},
     "output_type": "execute_result"
    }
   ],
   "source": [
    "pandasDF['Language'].unique()"
   ]
  },
  {
   "cell_type": "code",
   "execution_count": 12,
   "id": "a3f7843f",
   "metadata": {},
   "outputs": [
    {
     "data": {
      "text/plain": [
       "32076"
      ]
     },
     "execution_count": 12,
     "metadata": {},
     "output_type": "execute_result"
    }
   ],
   "source": [
    "# 32076 estão em inglês\n",
    "len(pandasDF[['Text','Language']].loc[pandasDF['Language'] == 'en'])"
   ]
  },
  {
   "cell_type": "code",
   "execution_count": 13,
   "id": "d67b10e3",
   "metadata": {},
   "outputs": [
    {
     "data": {
      "text/html": [
       "<div>\n",
       "<style scoped>\n",
       "    .dataframe tbody tr th:only-of-type {\n",
       "        vertical-align: middle;\n",
       "    }\n",
       "\n",
       "    .dataframe tbody tr th {\n",
       "        vertical-align: top;\n",
       "    }\n",
       "\n",
       "    .dataframe thead th {\n",
       "        text-align: right;\n",
       "    }\n",
       "</style>\n",
       "<table border=\"1\" class=\"dataframe\">\n",
       "  <thead>\n",
       "    <tr style=\"text-align: right;\">\n",
       "      <th></th>\n",
       "      <th>Text</th>\n",
       "      <th>Language</th>\n",
       "    </tr>\n",
       "  </thead>\n",
       "  <tbody>\n",
       "    <tr>\n",
       "      <th>0</th>\n",
       "      <td>ChatGPTで遊ぶの忘れてた！！\\n書類作るコード書いてみてほしいのと、\\nどこまで思考整...</td>\n",
       "      <td>ja</td>\n",
       "    </tr>\n",
       "    <tr>\n",
       "      <th>2</th>\n",
       "      <td>Schaut Euch an, was @fobizz @DianaKnodel alles...</td>\n",
       "      <td>de</td>\n",
       "    </tr>\n",
       "    <tr>\n",
       "      <th>4</th>\n",
       "      <td>Profilinde vatan, Türkiye falan yazan bireyler...</td>\n",
       "      <td>tr</td>\n",
       "    </tr>\n",
       "    <tr>\n",
       "      <th>5</th>\n",
       "      <td>ChatGPT’nin bilinmeyen arka planı: Ucuz iş güc...</td>\n",
       "      <td>tr</td>\n",
       "    </tr>\n",
       "    <tr>\n",
       "      <th>12</th>\n",
       "      <td>最新コメント15件（01/22 22:45）\\n\\n【1月17日 登録記事】AzureでCh...</td>\n",
       "      <td>ja</td>\n",
       "    </tr>\n",
       "    <tr>\n",
       "      <th>...</th>\n",
       "      <td>...</td>\n",
       "      <td>...</td>\n",
       "    </tr>\n",
       "    <tr>\n",
       "      <th>49994</th>\n",
       "      <td>@FedeMoctezuma 5 cosas que puedes hacer  con C...</td>\n",
       "      <td>es</td>\n",
       "    </tr>\n",
       "    <tr>\n",
       "      <th>49996</th>\n",
       "      <td>#ChatGPT ist ein #Chatbot, der durch künstlich...</td>\n",
       "      <td>de</td>\n",
       "    </tr>\n",
       "    <tr>\n",
       "      <th>49997</th>\n",
       "      <td>@r8r Ich hab mal die AI dazu befragt (ChatGPT)...</td>\n",
       "      <td>de</td>\n",
       "    </tr>\n",
       "    <tr>\n",
       "      <th>49998</th>\n",
       "      <td>5 minuti di #chatGPT e ho capito che apprende ...</td>\n",
       "      <td>it</td>\n",
       "    </tr>\n",
       "    <tr>\n",
       "      <th>50000</th>\n",
       "      <td>Ahora sueño con el día en que Amazon integre u...</td>\n",
       "      <td>es</td>\n",
       "    </tr>\n",
       "  </tbody>\n",
       "</table>\n",
       "<p>17925 rows × 2 columns</p>\n",
       "</div>"
      ],
      "text/plain": [
       "                                                    Text Language\n",
       "0      ChatGPTで遊ぶの忘れてた！！\\n書類作るコード書いてみてほしいのと、\\nどこまで思考整...       ja\n",
       "2      Schaut Euch an, was @fobizz @DianaKnodel alles...       de\n",
       "4      Profilinde vatan, Türkiye falan yazan bireyler...       tr\n",
       "5      ChatGPT’nin bilinmeyen arka planı: Ucuz iş güc...       tr\n",
       "12     最新コメント15件（01/22 22:45）\\n\\n【1月17日 登録記事】AzureでCh...       ja\n",
       "...                                                  ...      ...\n",
       "49994  @FedeMoctezuma 5 cosas que puedes hacer  con C...       es\n",
       "49996  #ChatGPT ist ein #Chatbot, der durch künstlich...       de\n",
       "49997  @r8r Ich hab mal die AI dazu befragt (ChatGPT)...       de\n",
       "49998  5 minuti di #chatGPT e ho capito che apprende ...       it\n",
       "50000  Ahora sueño con el día en que Amazon integre u...       es\n",
       "\n",
       "[17925 rows x 2 columns]"
      ]
     },
     "execution_count": 13,
     "metadata": {},
     "output_type": "execute_result"
    }
   ],
   "source": [
    "# salvando em outro dataframe os textos diferentes de inglês\n",
    "pandas_text = pandasDF[['Text','Language']].loc[pandasDF['Language'] != 'en']\n",
    "pandas_text"
   ]
  },
  {
   "cell_type": "code",
   "execution_count": 14,
   "id": "9c1bb1c0",
   "metadata": {},
   "outputs": [
    {
     "data": {
      "text/plain": [
       "pandas.core.frame.DataFrame"
      ]
     },
     "execution_count": 14,
     "metadata": {},
     "output_type": "execute_result"
    }
   ],
   "source": [
    "type(pandas_text)"
   ]
  },
  {
   "cell_type": "code",
   "execution_count": 15,
   "id": "bd3d7110",
   "metadata": {},
   "outputs": [],
   "source": [
    "# Verificando se todos os idiomas estão no google translator\n",
    "google_list = list(googletrans.LANGUAGES.keys())"
   ]
  },
  {
   "cell_type": "code",
   "execution_count": 16,
   "id": "ec65afd7",
   "metadata": {},
   "outputs": [],
   "source": [
    "language_list = [pandas_text.iloc[i][1] for i in range(len(pandas_text))] \n",
    "     "
   ]
  },
  {
   "cell_type": "code",
   "execution_count": 17,
   "id": "80bbdc09",
   "metadata": {},
   "outputs": [
    {
     "data": {
      "text/plain": [
       "['qht', 'und', 'in', 'qam', 'zh', 'qme', 'zxx']"
      ]
     },
     "execution_count": 17,
     "metadata": {},
     "output_type": "execute_result"
    }
   ],
   "source": [
    "difference = list(set(language_list) - set(google_list))\n",
    "difference"
   ]
  },
  {
   "cell_type": "code",
   "execution_count": 18,
   "id": "f15908ea",
   "metadata": {},
   "outputs": [
    {
     "name": "stdout",
     "output_type": "stream",
     "text": [
      "Language \"zh\": 149\n",
      "Language \"in\": 251\n"
     ]
    }
   ],
   "source": [
    "quantidade_zh = len(pandas_text.loc[pandas_text['Language'] == 'zh'])\n",
    "quantidade_in = len(pandas_text.loc[pandas_text['Language'] == 'in'])\n",
    "print(f'Language \"zh\": {quantidade_zh}')\n",
    "print(f'Language \"in\": {quantidade_in}')"
   ]
  },
  {
   "cell_type": "code",
   "execution_count": 19,
   "id": "2712605c",
   "metadata": {},
   "outputs": [
    {
     "data": {
      "text/plain": [
       "917"
      ]
     },
     "execution_count": 19,
     "metadata": {},
     "output_type": "execute_result"
    }
   ],
   "source": [
    "len(pandasDF.loc[(pandasDF['Language'] =='qme') | (pandasDF['Language'] =='und')  | (pandasDF['Language'] =='qht')  | (pandasDF['Language'] =='zxx') | (pandasDF['Language'] =='qam')])"
   ]
  },
  {
   "cell_type": "code",
   "execution_count": 20,
   "id": "4179432f",
   "metadata": {},
   "outputs": [],
   "source": [
    "pandasDF.drop(pandasDF.loc[(pandasDF['Language'] =='qme') | (pandasDF['Language'] =='und')  | (pandasDF['Language'] =='qht')  | (pandasDF['Language'] =='zxx') | (pandasDF['Language'] =='qam')].index, inplace = True)"
   ]
  },
  {
   "cell_type": "code",
   "execution_count": 21,
   "id": "753c1083",
   "metadata": {},
   "outputs": [
    {
     "data": {
      "text/plain": [
       "49084"
      ]
     },
     "execution_count": 21,
     "metadata": {},
     "output_type": "execute_result"
    }
   ],
   "source": [
    "len(pandasDF)"
   ]
  },
  {
   "cell_type": "code",
   "execution_count": 22,
   "id": "3a1e4dc5",
   "metadata": {},
   "outputs": [],
   "source": [
    "pandasDF['Language'].loc[pandasDF['Language'] == 'zh'] = 'zh-cn'"
   ]
  },
  {
   "cell_type": "code",
   "execution_count": 23,
   "id": "fb147658",
   "metadata": {},
   "outputs": [],
   "source": [
    "pandasDF['Language'].loc[pandasDF['Language'] == 'in'] = 'ms'"
   ]
  },
  {
   "cell_type": "code",
   "execution_count": 24,
   "id": "0c3fb1a8",
   "metadata": {},
   "outputs": [
    {
     "name": "stdout",
     "output_type": "stream",
     "text": [
      "Language \"zh_cn\": 149\n",
      "Language \"ms\": 251\n"
     ]
    }
   ],
   "source": [
    "quantidade_zh_cn = len(pandasDF.loc[pandasDF['Language'] == 'zh-cn'])\n",
    "quantidade_ms = len(pandasDF.loc[pandasDF['Language'] == 'ms'])\n",
    "print(f'Language \"zh_cn\": {quantidade_zh_cn}')\n",
    "print(f'Language \"ms\": {quantidade_ms}')"
   ]
  },
  {
   "cell_type": "code",
   "execution_count": 25,
   "id": "85ea1b3b",
   "metadata": {},
   "outputs": [
    {
     "data": {
      "text/html": [
       "<div>\n",
       "<style scoped>\n",
       "    .dataframe tbody tr th:only-of-type {\n",
       "        vertical-align: middle;\n",
       "    }\n",
       "\n",
       "    .dataframe tbody tr th {\n",
       "        vertical-align: top;\n",
       "    }\n",
       "\n",
       "    .dataframe thead th {\n",
       "        text-align: right;\n",
       "    }\n",
       "</style>\n",
       "<table border=\"1\" class=\"dataframe\">\n",
       "  <thead>\n",
       "    <tr style=\"text-align: right;\">\n",
       "      <th></th>\n",
       "      <th>Text</th>\n",
       "      <th>Language</th>\n",
       "    </tr>\n",
       "  </thead>\n",
       "  <tbody>\n",
       "    <tr>\n",
       "      <th>0</th>\n",
       "      <td>ChatGPTで遊ぶの忘れてた！！\\n書類作るコード書いてみてほしいのと、\\nどこまで思考整...</td>\n",
       "      <td>ja</td>\n",
       "    </tr>\n",
       "    <tr>\n",
       "      <th>2</th>\n",
       "      <td>Schaut Euch an, was @fobizz @DianaKnodel alles...</td>\n",
       "      <td>de</td>\n",
       "    </tr>\n",
       "    <tr>\n",
       "      <th>4</th>\n",
       "      <td>Profilinde vatan, Türkiye falan yazan bireyler...</td>\n",
       "      <td>tr</td>\n",
       "    </tr>\n",
       "    <tr>\n",
       "      <th>5</th>\n",
       "      <td>ChatGPT’nin bilinmeyen arka planı: Ucuz iş güc...</td>\n",
       "      <td>tr</td>\n",
       "    </tr>\n",
       "    <tr>\n",
       "      <th>12</th>\n",
       "      <td>最新コメント15件（01/22 22:45）\\n\\n【1月17日 登録記事】AzureでCh...</td>\n",
       "      <td>ja</td>\n",
       "    </tr>\n",
       "    <tr>\n",
       "      <th>13</th>\n",
       "      <td>Są dobre i złe wieści na temat ChatGPT.\\n\\n✅ O...</td>\n",
       "      <td>pl</td>\n",
       "    </tr>\n",
       "    <tr>\n",
       "      <th>14</th>\n",
       "      <td>#ChatGPT wydaje na operację w chmurze 3 mln do...</td>\n",
       "      <td>pl</td>\n",
       "    </tr>\n",
       "    <tr>\n",
       "      <th>16</th>\n",
       "      <td>J'ai juste demander à l'IA chatGPT de faire un...</td>\n",
       "      <td>fr</td>\n",
       "    </tr>\n",
       "    <tr>\n",
       "      <th>17</th>\n",
       "      <td>Google Presenta Sparrow, Su Inteligencia Artif...</td>\n",
       "      <td>es</td>\n",
       "    </tr>\n",
       "    <tr>\n",
       "      <th>24</th>\n",
       "      <td>esse chatGPT é bonzão pra explicar código, tá ...</td>\n",
       "      <td>pt</td>\n",
       "    </tr>\n",
       "  </tbody>\n",
       "</table>\n",
       "</div>"
      ],
      "text/plain": [
       "                                                 Text Language\n",
       "0   ChatGPTで遊ぶの忘れてた！！\\n書類作るコード書いてみてほしいのと、\\nどこまで思考整...       ja\n",
       "2   Schaut Euch an, was @fobizz @DianaKnodel alles...       de\n",
       "4   Profilinde vatan, Türkiye falan yazan bireyler...       tr\n",
       "5   ChatGPT’nin bilinmeyen arka planı: Ucuz iş güc...       tr\n",
       "12  最新コメント15件（01/22 22:45）\\n\\n【1月17日 登録記事】AzureでCh...       ja\n",
       "13  Są dobre i złe wieści na temat ChatGPT.\\n\\n✅ O...       pl\n",
       "14  #ChatGPT wydaje na operację w chmurze 3 mln do...       pl\n",
       "16  J'ai juste demander à l'IA chatGPT de faire un...       fr\n",
       "17  Google Presenta Sparrow, Su Inteligencia Artif...       es\n",
       "24  esse chatGPT é bonzão pra explicar código, tá ...       pt"
      ]
     },
     "execution_count": 25,
     "metadata": {},
     "output_type": "execute_result"
    }
   ],
   "source": [
    "# atualizando a outra tabela\n",
    "pandas_text = pandasDF[['Text','Language']].loc[pandasDF['Language'] != 'en']\n",
    "pandas_text.head(10)"
   ]
  },
  {
   "cell_type": "code",
   "execution_count": 26,
   "id": "b9e9f665",
   "metadata": {},
   "outputs": [],
   "source": [
    "# listando todas os idiomas\n",
    "language_list = [pandas_text.iloc[i][1] for i in range(len(pandas_text))] \n",
    "     "
   ]
  },
  {
   "cell_type": "code",
   "execution_count": 27,
   "id": "a563667f",
   "metadata": {},
   "outputs": [
    {
     "data": {
      "text/plain": [
       "[]"
      ]
     },
     "execution_count": 27,
     "metadata": {},
     "output_type": "execute_result"
    }
   ],
   "source": [
    "difference = list(set(language_list) - set(google_list))\n",
    "difference"
   ]
  },
  {
   "cell_type": "code",
   "execution_count": 28,
   "id": "83050d4e",
   "metadata": {},
   "outputs": [],
   "source": [
    "# criar uma instância da classe Translator\n",
    "translator = Translator()"
   ]
  },
  {
   "cell_type": "code",
   "execution_count": 29,
   "id": "f3a5fd9b",
   "metadata": {},
   "outputs": [],
   "source": [
    "arquivo_traducoes = pd.read_csv(\"dados/traducao_v2.csv\", delimiter = ',', header = None, names = [\"Text\", \"Language\",\"Traduzido\"], index_col = 0, skiprows = [0])"
   ]
  },
  {
   "cell_type": "code",
   "execution_count": 30,
   "id": "48c589ef",
   "metadata": {},
   "outputs": [],
   "source": [
    "# Criando uma cópia do dataframe pandas\n",
    "pandasDF_V2 = pandasDF.copy()"
   ]
  },
  {
   "cell_type": "code",
   "execution_count": 31,
   "id": "c09c5381",
   "metadata": {},
   "outputs": [],
   "source": [
    "# Passando as traduções para os textos que não estão em inglês\n",
    "pandasDF_V2['Text'].loc[pandasDF_V2['Language'] != 'en'] = arquivo_traducoes['Traduzido']"
   ]
  },
  {
   "cell_type": "code",
   "execution_count": 32,
   "id": "29b909a2",
   "metadata": {},
   "outputs": [
    {
     "data": {
      "text/html": [
       "<div>\n",
       "<style scoped>\n",
       "    .dataframe tbody tr th:only-of-type {\n",
       "        vertical-align: middle;\n",
       "    }\n",
       "\n",
       "    .dataframe tbody tr th {\n",
       "        vertical-align: top;\n",
       "    }\n",
       "\n",
       "    .dataframe thead th {\n",
       "        text-align: right;\n",
       "    }\n",
       "</style>\n",
       "<table border=\"1\" class=\"dataframe\">\n",
       "  <thead>\n",
       "    <tr style=\"text-align: right;\">\n",
       "      <th></th>\n",
       "      <th>Text</th>\n",
       "    </tr>\n",
       "  </thead>\n",
       "  <tbody>\n",
       "    <tr>\n",
       "      <th>0</th>\n",
       "      <td>I forgot to play ChatGPT! !\\nI want you to wri...</td>\n",
       "    </tr>\n",
       "    <tr>\n",
       "      <th>1</th>\n",
       "      <td>@AlexandrovnaIng Prohibition of ChatGPT has be...</td>\n",
       "    </tr>\n",
       "    <tr>\n",
       "      <th>2</th>\n",
       "      <td>Check out what @fobizz @DianaKnodel brings to ...</td>\n",
       "    </tr>\n",
       "    <tr>\n",
       "      <th>3</th>\n",
       "      <td>Bow down to chatGPT 🫡..... https://t.co/ENTSzi...</td>\n",
       "    </tr>\n",
       "    <tr>\n",
       "      <th>4</th>\n",
       "      <td>The first thing that individuals who write hom...</td>\n",
       "    </tr>\n",
       "    <tr>\n",
       "      <th>...</th>\n",
       "      <td>...</td>\n",
       "    </tr>\n",
       "    <tr>\n",
       "      <th>49996</th>\n",
       "      <td>#ChatGPT is a #chatbot that uses artificial in...</td>\n",
       "    </tr>\n",
       "    <tr>\n",
       "      <th>49997</th>\n",
       "      <td>@r8r I asked the AI ​​about it (ChatGPT) https...</td>\n",
       "    </tr>\n",
       "    <tr>\n",
       "      <th>49998</th>\n",
       "      <td>5 minutes of #chatGPT and I realized that he l...</td>\n",
       "    </tr>\n",
       "    <tr>\n",
       "      <th>49999</th>\n",
       "      <td>Portland Shop Uses ChatGPT To Tell Family Stor...</td>\n",
       "    </tr>\n",
       "    <tr>\n",
       "      <th>50000</th>\n",
       "      <td>Now I dream of the day when Amazon integrates ...</td>\n",
       "    </tr>\n",
       "  </tbody>\n",
       "</table>\n",
       "<p>49084 rows × 1 columns</p>\n",
       "</div>"
      ],
      "text/plain": [
       "                                                    Text\n",
       "0      I forgot to play ChatGPT! !\\nI want you to wri...\n",
       "1      @AlexandrovnaIng Prohibition of ChatGPT has be...\n",
       "2      Check out what @fobizz @DianaKnodel brings to ...\n",
       "3      Bow down to chatGPT 🫡..... https://t.co/ENTSzi...\n",
       "4      The first thing that individuals who write hom...\n",
       "...                                                  ...\n",
       "49996  #ChatGPT is a #chatbot that uses artificial in...\n",
       "49997  @r8r I asked the AI ​​about it (ChatGPT) https...\n",
       "49998  5 minutes of #chatGPT and I realized that he l...\n",
       "49999  Portland Shop Uses ChatGPT To Tell Family Stor...\n",
       "50000  Now I dream of the day when Amazon integrates ...\n",
       "\n",
       "[49084 rows x 1 columns]"
      ]
     },
     "execution_count": 32,
     "metadata": {},
     "output_type": "execute_result"
    }
   ],
   "source": [
    "# Filtrando apenas os Textos (Tweets)\n",
    "pandasDF_V2_text = pandasDF_V2['Text']\n",
    "pandasDF_V2_text = pd.DataFrame(pandasDF_V2_text)\n",
    "pandasDF_V2_text"
   ]
  },
  {
   "cell_type": "code",
   "execution_count": 33,
   "id": "346a08d7",
   "metadata": {},
   "outputs": [],
   "source": [
    "spark_df = spSession2.createDataFrame(pandasDF_V2_text)"
   ]
  },
  {
   "cell_type": "code",
   "execution_count": 49,
   "id": "679451f3",
   "metadata": {},
   "outputs": [],
   "source": [
    "import pyspark.sql.functions as F"
   ]
  },
  {
   "cell_type": "code",
   "execution_count": 52,
   "id": "19090d00",
   "metadata": {},
   "outputs": [],
   "source": [
    "tweet_v1 = spark_df.withColumn(\"Clean\", F.regexp_replace(\"Text\", \"RT @[\\w]*:\", \"\"))\n",
    "tweet_v2 = tweet_v1.withColumn(\"Clean\", F.regexp_replace(\"Clean\", \"@[\\w]*\", \"\"))\n",
    "tweet_v3 = tweet_v2.withColumn(\"Clean\", F.regexp_replace(\"Clean\", \"https?://[A-Za-z0-9./]*\", \"\"))\n",
    "dfCleanTweet = tweet_v3.withColumn(\"cleanTweetText\", F.regexp_replace(\"Clean\", \"[^A-Za-z]+\", \" \"))"
   ]
  },
  {
   "cell_type": "code",
   "execution_count": 34,
   "id": "734747a2",
   "metadata": {},
   "outputs": [
    {
     "name": "stdout",
     "output_type": "stream",
     "text": [
      "+--------------------+--------------------+\n",
      "|                text|      cleanTweetText|\n",
      "+--------------------+--------------------+\n",
      "|I forgot to play ...|I forgot to play ...|\n",
      "|@AlexandrovnaIng ...| Prohibition of C...|\n",
      "|Check out what @f...|Check out what br...|\n",
      "|Bow down to chatG...|Bow down to chatGPT |\n",
      "|The first thing t...|The first thing t...|\n",
      "+--------------------+--------------------+\n",
      "only showing top 5 rows\n",
      "\n"
     ]
    }
   ],
   "source": [
    "udfCleanTweet = udf(cleanTweet, StringType())\n",
    "dfCleanTweet= spark_df.withColumn('cleanTweetText', udfCleanTweet('text'))\n",
    "dfCleanTweet.select('text','cleanTweetText').show(5)"
   ]
  },
  {
   "cell_type": "code",
   "execution_count": 54,
   "id": "2bb8ad08",
   "metadata": {},
   "outputs": [
    {
     "name": "stdout",
     "output_type": "stream",
     "text": [
      "+----------------------------------------------------------------------------------------------------------------------------------------------------------------------------------------------------------------------------------------------------------------------+\n",
      "|cleanTweetText                                                                                                                                                                                                                                                        |\n",
      "+----------------------------------------------------------------------------------------------------------------------------------------------------------------------------------------------------------------------------------------------------------------------+\n",
      "|I forgot to play ChatGPT I want you to write a code to create a document How far can you organize your thoughts I want to try sea turtle soup Please do your research I messed around with it a bit at the office but for the time being I want to try various things |\n",
      "| Prohibition of ChatGPT has been added to the honor code of my daughter s school                                                                                                                                                                                      |\n",
      "|Check out what brings to the slopes to take you with them starts tomorrow and on Tue at we will discuss ChatGPT as critical friends in a live briefing with SPD chairman Diana                                                                                        |\n",
      "|Bow down to chatGPT                                                                                                                                                                                                                                                   |\n",
      "|The first thing that individuals who write homeland Turkey or something like in their profile protect is the country s religion or something This is never surprising Chatgpt write this aside                                                                        |\n",
      "|The unknown background of ChatGPT Cheap labor Translation Evolution Infallible                                                                                                                                                                                        |\n",
      "|ChatGPT runs K Nvidia training GPUs with potential for thousands more                                                                                                                                                                                                 |\n",
      "| There is repetitive work in every job there are lots of small tasks that can leverage chatgpt or copilot and keep you working at a higher level of abstraction                                                                                                       |\n",
      "|I created a fictional jewelry brand using ChatGPT and Midjourney ChatGPT midjourney                                                                                                                                                                                   |\n",
      "|It will look similar to irobot The company will install a mini fridge size computer you will be able to make a phone call hands free no phone visible You and the conversation will move room to room SmartHome ChatGPT                                               |\n",
      "|If you ever played a game like assassin s creed odyssey or Valhalla or any other rpg where a tour guide will be with you throughout the game helping you navigate the virtual world AI systems like chatgpt will play that guide role for you in real life            |\n",
      "|AI will initiate a new era of entrepreneurship A thesis ChatGPT visionary ArtificialIntelligence future                                                                                                                                                               |\n",
      "| latest comments Article registered on January ChatGPT available on Azure soon to be released Azure OpenAI Service general availability Nautice News                                                                                                                  |\n",
      "|There is good news and bad news about ChatGPT OpenAI mentions that ChatGPT will be free but you will have to queue sometimes There will be no billing per request There s a huge chance you don t need the PRO version The proposed price is HIGH for a regular user  |\n",
      "| ChatGPT spends million a day on cloud operations guess who At the second largest cloud computing provider in the world In addition the giant will buy of the company s shares for USD billion AI will kill classic search engines Microsoft s goal achieved          |\n",
      "| ChatGPT writes excel formulas MicrosoftEDU MIEExpert EdTech EduTech EduTwitter ETCoaches BlendedLearning EduCoach eLearning stCenturySkills                                                                                                                          |\n",
      "|I just asked the chatGPT AI to tweet watch the bastos that I take ptdrrrr                                                                                                                                                                                             |\n",
      "|Google Presents Sparrow Its Artificial Intelligence That Will Compete With ChatGPT via                                                                                                                                                                                |\n",
      "|Pay per month or start using your brain again ChatGPT is paid now letsconnect                                                                                                                                                                                         |\n",
      "|Your own AI knowledge base chatbot with OpenAI without Fine Tuning Overview Motivation ChatGPT is a strong AI chatbot but it cannot answer based on our own knowledge base Everyone is wondering if we had our own AI but it still                                    |\n",
      "+----------------------------------------------------------------------------------------------------------------------------------------------------------------------------------------------------------------------------------------------------------------------+\n",
      "only showing top 20 rows\n",
      "\n"
     ]
    }
   ],
   "source": [
    "dfCleanTweet.select('cleanTweetText').show(truncate = False)"
   ]
  },
  {
   "cell_type": "code",
   "execution_count": 53,
   "id": "b76931c4",
   "metadata": {},
   "outputs": [
    {
     "name": "stdout",
     "output_type": "stream",
     "text": [
      "+--------------------+--------------------+--------------------+\n",
      "|                text|      cleanTweetText|               words|\n",
      "+--------------------+--------------------+--------------------+\n",
      "|I forgot to play ...|I forgot to play ...|[i, forgot, to, p...|\n",
      "|@AlexandrovnaIng ...| Prohibition of C...|[, prohibition, o...|\n",
      "|Check out what @f...|Check out what br...|[check, out, what...|\n",
      "|Bow down to chatG...|Bow down to chatGPT |[bow, down, to, c...|\n",
      "|The first thing t...|The first thing t...|[the, first, thin...|\n",
      "+--------------------+--------------------+--------------------+\n",
      "only showing top 5 rows\n",
      "\n"
     ]
    }
   ],
   "source": [
    "tokenizer = Tokenizer(inputCol='cleanTweetText', outputCol='words')\n",
    "dfCleanTweetTokenized = tokenizer.transform(dfCleanTweet)\n",
    "dfCleanTweetTokenized.select('text','cleanTweetText','words').show(5)"
   ]
  },
  {
   "cell_type": "code",
   "execution_count": 54,
   "id": "5abb883d",
   "metadata": {},
   "outputs": [
    {
     "name": "stdout",
     "output_type": "stream",
     "text": [
      "+---------------------------------------------------------------------------------------------------------------------------------------------------------------------------------------------------------------------------------------------------------------------------------------------------------------------+----------------------------------------------------------------------------------------------------------------------------------------------------------------------------------------------------------------------------------------------------------------------+-----------------------------------------------------------------------------------------------------------------------------------------------------------------------------------------------------------------------------------------------------------------------------------------------------------------------------+-----------------------------------------------------------------------------------------------------------------------------------------------------------------------------------------------------------------------------------+\n",
      "|text                                                                                                                                                                                                                                                                                                                 |cleanTweetText                                                                                                                                                                                                                                                        |words                                                                                                                                                                                                                                                                                                                        |filteredTweetText                                                                                                                                                                                                                  |\n",
      "+---------------------------------------------------------------------------------------------------------------------------------------------------------------------------------------------------------------------------------------------------------------------------------------------------------------------+----------------------------------------------------------------------------------------------------------------------------------------------------------------------------------------------------------------------------------------------------------------------+-----------------------------------------------------------------------------------------------------------------------------------------------------------------------------------------------------------------------------------------------------------------------------------------------------------------------------+-----------------------------------------------------------------------------------------------------------------------------------------------------------------------------------------------------------------------------------+\n",
      "|I forgot to play ChatGPT! !\\nI want you to write a code to create a document,\\nHow far can you organize your thoughts,\\nI want to try sea turtle soup.\\nPlease do your research.\\nI messed around with it a bit at the office, but for the time being, I want to try various things.                                 |I forgot to play ChatGPT I want you to write a code to create a document How far can you organize your thoughts I want to try sea turtle soup Please do your research I messed around with it a bit at the office but for the time being I want to try various things |[i, forgot, to, play, chatgpt, i, want, you, to, write, a, code, to, create, a, document, how, far, can, you, organize, your, thoughts, i, want, to, try, sea, turtle, soup, please, do, your, research, i, messed, around, with, it, a, bit, at, the, office, but, for, the, time, being, i, want, to, try, various, things]|[forgot, play, chatgpt, want, write, code, create, document, far, organize, thoughts, want, try, sea, turtle, soup, please, research, messed, around, bit, office, time, want, try, various, things]                               |\n",
      "|@AlexandrovnaIng Prohibition of ChatGPT has been added to the honor code of my daughter’s school                                                                                                                                                                                                                     | Prohibition of ChatGPT has been added to the honor code of my daughter s school                                                                                                                                                                                      |[, prohibition, of, chatgpt, has, been, added, to, the, honor, code, of, my, daughter, s, school]                                                                                                                                                                                                                            |[, prohibition, chatgpt, added, honor, code, daughter, school]                                                                                                                                                                     |\n",
      "|Check out what @fobizz @DianaKnodel brings to the slopes ⬇️ to take you with them.\\n\\n@reg_schulz starts tomorrow - and on Tue at 12 we will discuss #ChatGPT as critical friends in a live briefing with SPD chairman @EskenSaskia & Diana\\nhttps://t.co/DsoeVJrPBp https://t.co/HflTruResk https://t.co/7tYCx6Srp8 |Check out what brings to the slopes to take you with them starts tomorrow and on Tue at we will discuss ChatGPT as critical friends in a live briefing with SPD chairman Diana                                                                                        |[check, out, what, brings, to, the, slopes, to, take, you, with, them, starts, tomorrow, and, on, tue, at, we, will, discuss, chatgpt, as, critical, friends, in, a, live, briefing, with, spd, chairman, diana]                                                                                                             |[check, brings, slopes, take, starts, tomorrow, tue, discuss, chatgpt, critical, friends, live, briefing, spd, chairman, diana]                                                                                                    |\n",
      "|Bow down to chatGPT 🫡..... https://t.co/ENTSzi2AQ9                                                                                                                                                                                                                                                                  |Bow down to chatGPT                                                                                                                                                                                                                                                   |[bow, down, to, chatgpt]                                                                                                                                                                                                                                                                                                     |[bow, chatgpt]                                                                                                                                                                                                                     |\n",
      "|The first thing that individuals who write homeland, Turkey or something like in their profile protect is the country's religion or something. This is never surprising. Chatgpt write this aside 😂                                                                                                                 |The first thing that individuals who write homeland Turkey or something like in their profile protect is the country s religion or something This is never surprising Chatgpt write this aside                                                                        |[the, first, thing, that, individuals, who, write, homeland, turkey, or, something, like, in, their, profile, protect, is, the, country, s, religion, or, something, this, is, never, surprising, chatgpt, write, this, aside]                                                                                               |[first, thing, individuals, write, homeland, turkey, something, like, profile, protect, country, religion, something, never, surprising, chatgpt, write, aside]                                                                    |\n",
      "|The unknown background of ChatGPT: Cheap labor\\n\\nTranslation: Evolution Infallible\\n\\nhttps://t.co/daAyOpRLiM                                                                                                                                                                                                       |The unknown background of ChatGPT Cheap labor Translation Evolution Infallible                                                                                                                                                                                        |[the, unknown, background, of, chatgpt, cheap, labor, translation, evolution, infallible]                                                                                                                                                                                                                                    |[unknown, background, chatgpt, cheap, labor, translation, evolution, infallible]                                                                                                                                                   |\n",
      "|ChatGPT runs 10K Nvidia training GPUs with potential for thousands more https://t.co/Uhq62t0Uw4                                                                                                                                                                                                                      |ChatGPT runs K Nvidia training GPUs with potential for thousands more                                                                                                                                                                                                 |[chatgpt, runs, k, nvidia, training, gpus, with, potential, for, thousands, more]                                                                                                                                                                                                                                            |[chatgpt, runs, k, nvidia, training, gpus, potential, thousands]                                                                                                                                                                   |\n",
      "|@SWENGDAD There is repetitive work in every job, there are lots of small tasks that can leverage chatgpt or copilot and keep you working at a higher level of abstraction.                                                                                                                                           | There is repetitive work in every job there are lots of small tasks that can leverage chatgpt or copilot and keep you working at a higher level of abstraction                                                                                                       |[, there, is, repetitive, work, in, every, job, there, are, lots, of, small, tasks, that, can, leverage, chatgpt, or, copilot, and, keep, you, working, at, a, higher, level, of, abstraction]                                                                                                                               |[, repetitive, work, every, job, lots, small, tasks, leverage, chatgpt, copilot, keep, working, higher, level, abstraction]                                                                                                        |\n",
      "|I created a fictional jewelry brand using ChatGPT and Midjourney.\\n\\nhttps://t.co/gtWdNZ0laM\\n\\n#ChatGPT #midjourney https://t.co/N5hlelZpTY                                                                                                                                                                         |I created a fictional jewelry brand using ChatGPT and Midjourney ChatGPT midjourney                                                                                                                                                                                   |[i, created, a, fictional, jewelry, brand, using, chatgpt, and, midjourney, chatgpt, midjourney]                                                                                                                                                                                                                             |[created, fictional, jewelry, brand, using, chatgpt, midjourney, chatgpt, midjourney]                                                                                                                                              |\n",
      "|It will look similar to irobot. The company will install a mini fridge size computer, you will be able to make a phone call, hands free no phone visible. You and the conversation will move room to room... SmartHome #ChatGPT https://t.co/2VBVDNEjpL                                                              |It will look similar to irobot The company will install a mini fridge size computer you will be able to make a phone call hands free no phone visible You and the conversation will move room to room SmartHome ChatGPT                                               |[it, will, look, similar, to, irobot, the, company, will, install, a, mini, fridge, size, computer, you, will, be, able, to, make, a, phone, call, hands, free, no, phone, visible, you, and, the, conversation, will, move, room, to, room, smarthome, chatgpt]                                                             |[look, similar, irobot, company, install, mini, fridge, size, computer, able, make, phone, call, hands, free, phone, visible, conversation, move, room, room, smarthome, chatgpt]                                                  |\n",
      "|If you ever played a game like assassin’s creed odyssey or Valhalla or any other rpg where a tour guide will be with you throughout the game helping you navigate the virtual world. \\n\\nAI systems like chatgpt will play that guide role for you in real life!                                                     |If you ever played a game like assassin s creed odyssey or Valhalla or any other rpg where a tour guide will be with you throughout the game helping you navigate the virtual world AI systems like chatgpt will play that guide role for you in real life            |[if, you, ever, played, a, game, like, assassin, s, creed, odyssey, or, valhalla, or, any, other, rpg, where, a, tour, guide, will, be, with, you, throughout, the, game, helping, you, navigate, the, virtual, world, ai, systems, like, chatgpt, will, play, that, guide, role, for, you, in, real, life]                  |[ever, played, game, like, assassin, creed, odyssey, valhalla, rpg, tour, guide, throughout, game, helping, navigate, virtual, world, ai, systems, like, chatgpt, play, guide, role, real, life]                                   |\n",
      "|AI will initiate a new era of entrepreneurship. A thesis.\\n\\n#ChatGPT #visionary #ArtificialIntelligence #future \\n\\nhttps://t.co/yxpj9w7QcY                                                                                                                                                                         |AI will initiate a new era of entrepreneurship A thesis ChatGPT visionary ArtificialIntelligence future                                                                                                                                                               |[ai, will, initiate, a, new, era, of, entrepreneurship, a, thesis, chatgpt, visionary, artificialintelligence, future]                                                                                                                                                                                                       |[ai, initiate, new, era, entrepreneurship, thesis, chatgpt, visionary, artificialintelligence, future]                                                                                                                             |\n",
      "|15 latest comments (01/22 22:45)\\n\\n[Article registered on January 17] ChatGPT available on Azure, soon to be released ``Azure OpenAI Service'' general availability | Nautice News https://t.co/5dTba8AoXr                                                                                                          | latest comments Article registered on January ChatGPT available on Azure soon to be released Azure OpenAI Service general availability Nautice News                                                                                                                  |[, latest, comments, article, registered, on, january, chatgpt, available, on, azure, soon, to, be, released, azure, openai, service, general, availability, nautice, news]                                                                                                                                                  |[, latest, comments, article, registered, january, chatgpt, available, azure, soon, released, azure, openai, service, general, availability, nautice, news]                                                                        |\n",
      "|There is good news and bad news about ChatGPT.\\n\\n✅ OpenAI mentions that ChatGPT will be free, but... you will have to queue sometimes\\n\\n✅ There will be no billing per request\\n\\n✅ There's a huge chance you don't need the PRO version\\n\\n❌ The proposed price is HIGH for a regular user https://t.co/pQZzlodGJs|There is good news and bad news about ChatGPT OpenAI mentions that ChatGPT will be free but you will have to queue sometimes There will be no billing per request There s a huge chance you don t need the PRO version The proposed price is HIGH for a regular user  |[there, is, good, news, and, bad, news, about, chatgpt, openai, mentions, that, chatgpt, will, be, free, but, you, will, have, to, queue, sometimes, there, will, be, no, billing, per, request, there, s, a, huge, chance, you, don, t, need, the, pro, version, the, proposed, price, is, high, for, a, regular, user]     |[good, news, bad, news, chatgpt, openai, mentions, chatgpt, free, queue, sometimes, billing, per, request, huge, chance, need, pro, version, proposed, price, high, regular, user]                                                 |\n",
      "|#ChatGPT spends $3 million a day on cloud operations, guess who? At the second largest cloud computing provider in the world - @Microsoft. In addition, the giant will buy 49% of the company's shares for USD 10 billion.\\n\\nAI will kill classic search engines, Microsoft's goal achieved. https://t.co/6H9tzA4SGb| ChatGPT spends million a day on cloud operations guess who At the second largest cloud computing provider in the world In addition the giant will buy of the company s shares for USD billion AI will kill classic search engines Microsoft s goal achieved          |[, chatgpt, spends, million, a, day, on, cloud, operations, guess, who, at, the, second, largest, cloud, computing, provider, in, the, world, in, addition, the, giant, will, buy, of, the, company, s, shares, for, usd, billion, ai, will, kill, classic, search, engines, microsoft, s, goal, achieved]                   |[, chatgpt, spends, million, day, cloud, operations, guess, second, largest, cloud, computing, provider, world, addition, giant, buy, company, shares, usd, billion, ai, kill, classic, search, engines, microsoft, goal, achieved]|\n",
      "|🤯 #ChatGPT writes excel formulas!\\n\\n#MicrosoftEDU #MIEExpert #EdTech #EduTech #EduTwitter #ETCoaches #BlendedLearning #EduCoach #eLearning #21stCenturySkills\\n\\nhttps://t.co/aBiphFuQWM                                                                                                                           | ChatGPT writes excel formulas MicrosoftEDU MIEExpert EdTech EduTech EduTwitter ETCoaches BlendedLearning EduCoach eLearning stCenturySkills                                                                                                                          |[, chatgpt, writes, excel, formulas, microsoftedu, mieexpert, edtech, edutech, edutwitter, etcoaches, blendedlearning, educoach, elearning, stcenturyskills]                                                                                                                                                                 |[, chatgpt, writes, excel, formulas, microsoftedu, mieexpert, edtech, edutech, edutwitter, etcoaches, blendedlearning, educoach, elearning, stcenturyskills]                                                                       |\n",
      "|I just asked the chatGPT AI to tweet watch the bastos that I take ptdrrrr https://t.co/0Yrc1bAAZL                                                                                                                                                                                                                    |I just asked the chatGPT AI to tweet watch the bastos that I take ptdrrrr                                                                                                                                                                                             |[i, just, asked, the, chatgpt, ai, to, tweet, watch, the, bastos, that, i, take, ptdrrrr]                                                                                                                                                                                                                                    |[asked, chatgpt, ai, tweet, watch, bastos, take, ptdrrrr]                                                                                                                                                                          |\n",
      "|Google Presents Sparrow, Its Artificial Intelligence That Will Compete With ChatGPT https://t.co/nUzgLHEoAs via @culturainform                                                                                                                                                                                       |Google Presents Sparrow Its Artificial Intelligence That Will Compete With ChatGPT via                                                                                                                                                                                |[google, presents, sparrow, its, artificial, intelligence, that, will, compete, with, chatgpt, via]                                                                                                                                                                                                                          |[google, presents, sparrow, artificial, intelligence, compete, chatgpt, via]                                                                                                                                                       |\n",
      "|Pay $42 per month or start using your brain again.\\n\\nChatGPT is paid now.... 😂\\n\\n#letsconnect                                                                                                                                                                                                                     |Pay per month or start using your brain again ChatGPT is paid now letsconnect                                                                                                                                                                                         |[pay, per, month, or, start, using, your, brain, again, chatgpt, is, paid, now, letsconnect]                                                                                                                                                                                                                                 |[pay, per, month, start, using, brain, chatgpt, paid, letsconnect]                                                                                                                                                                 |\n",
      "|Your own AI knowledge base chatbot with OpenAI without Fine-Tuning\\nhttps://t.co/4uK6T3mhM9\\nOverview / Motivation  ChatGPT is a strong AI chatbot but it cannot answer based on our own knowledge base. Everyone is wondering if we had our own AI but it still \\nhttps://t.co/eCtNRa8nDe                           |Your own AI knowledge base chatbot with OpenAI without Fine Tuning Overview Motivation ChatGPT is a strong AI chatbot but it cannot answer based on our own knowledge base Everyone is wondering if we had our own AI but it still                                    |[your, own, ai, knowledge, base, chatbot, with, openai, without, fine, tuning, overview, motivation, chatgpt, is, a, strong, ai, chatbot, but, it, cannot, answer, based, on, our, own, knowledge, base, everyone, is, wondering, if, we, had, our, own, ai, but, it, still]                                                 |[ai, knowledge, base, chatbot, openai, without, fine, tuning, overview, motivation, chatgpt, strong, ai, chatbot, answer, based, knowledge, base, everyone, wondering, ai, still]                                                  |\n",
      "+---------------------------------------------------------------------------------------------------------------------------------------------------------------------------------------------------------------------------------------------------------------------------------------------------------------------+----------------------------------------------------------------------------------------------------------------------------------------------------------------------------------------------------------------------------------------------------------------------+-----------------------------------------------------------------------------------------------------------------------------------------------------------------------------------------------------------------------------------------------------------------------------------------------------------------------------+-----------------------------------------------------------------------------------------------------------------------------------------------------------------------------------------------------------------------------------+\n",
      "only showing top 20 rows\n",
      "\n"
     ]
    }
   ],
   "source": [
    "remover = StopWordsRemover(inputCol='words', outputCol='filteredTweetText')\n",
    "dfStopwordRemoved=remover.transform(dfCleanTweetTokenized)\n",
    "dfStopwordRemoved.select('text','cleanTweetText','words','filteredTweetText').show(truncate = False)"
   ]
  },
  {
   "cell_type": "code",
   "execution_count": 57,
   "id": "d8f94ca8",
   "metadata": {},
   "outputs": [
    {
     "name": "stdout",
     "output_type": "stream",
     "text": [
      "+-----------------------------------------------------------------------------------------------------------------------------------------------------------------------------------------------------------------------------------+\n",
      "|filteredTweetText                                                                                                                                                                                                                  |\n",
      "+-----------------------------------------------------------------------------------------------------------------------------------------------------------------------------------------------------------------------------------+\n",
      "|[forgot, play, chatgpt, want, write, code, create, document, far, organize, thoughts, want, try, sea, turtle, soup, please, research, messed, around, bit, office, time, want, try, various, things]                               |\n",
      "|[, prohibition, chatgpt, added, honor, code, daughter, school]                                                                                                                                                                     |\n",
      "|[check, brings, slopes, take, starts, tomorrow, tue, discuss, chatgpt, critical, friends, live, briefing, spd, chairman, diana]                                                                                                    |\n",
      "|[bow, chatgpt]                                                                                                                                                                                                                     |\n",
      "|[first, thing, individuals, write, homeland, turkey, something, like, profile, protect, country, religion, something, never, surprising, chatgpt, write, aside]                                                                    |\n",
      "|[unknown, background, chatgpt, cheap, labor, translation, evolution, infallible]                                                                                                                                                   |\n",
      "|[chatgpt, runs, k, nvidia, training, gpus, potential, thousands]                                                                                                                                                                   |\n",
      "|[, repetitive, work, every, job, lots, small, tasks, leverage, chatgpt, copilot, keep, working, higher, level, abstraction]                                                                                                        |\n",
      "|[created, fictional, jewelry, brand, using, chatgpt, midjourney, chatgpt, midjourney]                                                                                                                                              |\n",
      "|[look, similar, irobot, company, install, mini, fridge, size, computer, able, make, phone, call, hands, free, phone, visible, conversation, move, room, room, smarthome, chatgpt]                                                  |\n",
      "|[ever, played, game, like, assassin, creed, odyssey, valhalla, rpg, tour, guide, throughout, game, helping, navigate, virtual, world, ai, systems, like, chatgpt, play, guide, role, real, life]                                   |\n",
      "|[ai, initiate, new, era, entrepreneurship, thesis, chatgpt, visionary, artificialintelligence, future]                                                                                                                             |\n",
      "|[, latest, comments, article, registered, january, chatgpt, available, azure, soon, released, azure, openai, service, general, availability, nautice, news]                                                                        |\n",
      "|[good, news, bad, news, chatgpt, openai, mentions, chatgpt, free, queue, sometimes, billing, per, request, huge, chance, need, pro, version, proposed, price, high, regular, user]                                                 |\n",
      "|[, chatgpt, spends, million, day, cloud, operations, guess, second, largest, cloud, computing, provider, world, addition, giant, buy, company, shares, usd, billion, ai, kill, classic, search, engines, microsoft, goal, achieved]|\n",
      "|[, chatgpt, writes, excel, formulas, microsoftedu, mieexpert, edtech, edutech, edutwitter, etcoaches, blendedlearning, educoach, elearning, stcenturyskills]                                                                       |\n",
      "|[asked, chatgpt, ai, tweet, watch, bastos, take, ptdrrrr]                                                                                                                                                                          |\n",
      "|[google, presents, sparrow, artificial, intelligence, compete, chatgpt, via]                                                                                                                                                       |\n",
      "|[pay, per, month, start, using, brain, chatgpt, paid, letsconnect]                                                                                                                                                                 |\n",
      "|[ai, knowledge, base, chatbot, openai, without, fine, tuning, overview, motivation, chatgpt, strong, ai, chatbot, answer, based, knowledge, base, everyone, wondering, ai, still]                                                  |\n",
      "+-----------------------------------------------------------------------------------------------------------------------------------------------------------------------------------------------------------------------------------+\n",
      "only showing top 20 rows\n",
      "\n"
     ]
    }
   ],
   "source": [
    "dfStopwordRemoved.select('filteredTweetText').show(truncate = False)"
   ]
  },
  {
   "cell_type": "code",
   "execution_count": 55,
   "id": "363f476b",
   "metadata": {},
   "outputs": [
    {
     "name": "stdout",
     "output_type": "stream",
     "text": [
      "+------------------------+\n",
      "|filteredCleanedTweetText|\n",
      "+------------------------+\n",
      "|    forgot play chatg...|\n",
      "|     prohibition chat...|\n",
      "|    check brings slop...|\n",
      "|             bow chatgpt|\n",
      "|    first thing indiv...|\n",
      "+------------------------+\n",
      "only showing top 5 rows\n",
      "\n"
     ]
    }
   ],
   "source": [
    "udfCleanTweetText = udf(getCleanTweetText, StringType())\n",
    "dfFilteredCleanedTweet = dfStopwordRemoved.withColumn('filteredCleanedTweetText', udfCleanTweetText('filteredTweetText'))\n",
    "dfFilteredCleanedTweet.select('filteredCleanedTweetText').show(5)"
   ]
  },
  {
   "cell_type": "code",
   "execution_count": 38,
   "id": "370a347b",
   "metadata": {},
   "outputs": [
    {
     "name": "stdout",
     "output_type": "stream",
     "text": [
      "+-----------------------------------------------------------------------------------------------------------------------------------------------------------------------------------------------------+\n",
      "|filteredCleanedTweetText                                                                                                                                                                             |\n",
      "+-----------------------------------------------------------------------------------------------------------------------------------------------------------------------------------------------------+\n",
      "|forgot play chatgpt want write code create document far organize thoughts want try sea turtle soup please research messed around bit office time want try various things                             |\n",
      "| prohibition chatgpt added honor code daughter school                                                                                                                                                |\n",
      "|check brings slopes take starts tomorrow tue discuss chatgpt critical friends live briefing spd chairman diana                                                                                       |\n",
      "|bow chatgpt                                                                                                                                                                                          |\n",
      "|first thing individuals write homeland turkey something like profile protect country religion something never surprising chatgpt write aside                                                         |\n",
      "|unknown background chatgpt cheap labor translation evolution infallible                                                                                                                              |\n",
      "|chatgpt runs k nvidia training gpus potential thousands                                                                                                                                              |\n",
      "| repetitive work every job lots small tasks leverage chatgpt copilot keep working higher level abstraction                                                                                           |\n",
      "|created fictional jewelry brand using chatgpt midjourney chatgpt midjourney                                                                                                                          |\n",
      "|look similar irobot company install mini fridge size computer able make phone call hands free phone visible conversation move room room smarthome chatgpt                                            |\n",
      "|ever played game like assassin creed odyssey valhalla rpg tour guide throughout game helping navigate virtual world ai systems like chatgpt play guide role real life                                |\n",
      "|ai initiate new era entrepreneurship thesis chatgpt visionary artificialintelligence future                                                                                                          |\n",
      "| latest comments article registered january chatgpt available azure soon released azure openai service general availability nautice news                                                             |\n",
      "|good news bad news chatgpt openai mentions chatgpt free queue sometimes billing per request huge chance need pro version proposed price high regular user                                            |\n",
      "| chatgpt spends million day cloud operations guess second largest cloud computing provider world addition giant buy company shares usd billion ai kill classic search engines microsoft goal achieved|\n",
      "| chatgpt writes excel formulas microsoftedu mieexpert edtech edutech edutwitter etcoaches blendedlearning educoach elearning stcenturyskills                                                         |\n",
      "|asked chatgpt ai tweet watch bastos take ptdrrrr                                                                                                                                                     |\n",
      "|google presents sparrow artificial intelligence compete chatgpt via                                                                                                                                  |\n",
      "|pay per month start using brain chatgpt paid letsconnect                                                                                                                                             |\n",
      "|ai knowledge base chatbot openai without fine tuning overview motivation chatgpt strong ai chatbot answer based knowledge base everyone wondering ai still                                           |\n",
      "+-----------------------------------------------------------------------------------------------------------------------------------------------------------------------------------------------------+\n",
      "only showing top 20 rows\n",
      "\n"
     ]
    }
   ],
   "source": [
    "dfFilteredCleanedTweet.select('filteredCleanedTweetText').show(truncate = False)"
   ]
  },
  {
   "cell_type": "code",
   "execution_count": null,
   "id": "c2eb15ba",
   "metadata": {},
   "outputs": [],
   "source": []
  },
  {
   "cell_type": "code",
   "execution_count": 46,
   "id": "fc32a470",
   "metadata": {},
   "outputs": [
    {
     "name": "stdout",
     "output_type": "stream",
     "text": [
      "+----+--------------+-----+-----------------+------------------------+\n",
      "|Text|cleanTweetText|words|filteredTweetText|filteredCleanedTweetText|\n",
      "+----+--------------+-----+-----------------+------------------------+\n",
      "+----+--------------+-----+-----------------+------------------------+\n",
      "\n"
     ]
    }
   ],
   "source": [
    "dfFilteredCleanedTweet.filter(col(\"filteredCleanedTweetText\")\n",
    "    .rlike(\"\\d\")\n",
    "  ).show()\n"
   ]
  },
  {
   "cell_type": "code",
   "execution_count": 56,
   "id": "80d24573",
   "metadata": {},
   "outputs": [
    {
     "name": "stdout",
     "output_type": "stream",
     "text": [
      "+--------------+\n",
      "|sentimentScore|\n",
      "+--------------+\n",
      "|0.6486        |\n",
      "|0.4939        |\n",
      "|0.2023        |\n",
      "|0.0           |\n",
      "|0.5083        |\n",
      "|0.0           |\n",
      "|0.0           |\n",
      "|-0.25         |\n",
      "|0.25          |\n",
      "|0.5106        |\n",
      "|0.875         |\n",
      "|0.5267        |\n",
      "|0.0           |\n",
      "|0.7184        |\n",
      "|-0.5423       |\n",
      "|0.4588        |\n",
      "|0.0           |\n",
      "|0.4767        |\n",
      "|-0.1027       |\n",
      "|0.6259        |\n",
      "+--------------+\n",
      "only showing top 20 rows\n",
      "\n"
     ]
    }
   ],
   "source": [
    "udfSentimentScore = udf(getSentimentScore, FloatType())\n",
    "dfSentimentScore = dfFilteredCleanedTweet.withColumn('sentimentScore', udfSentimentScore('filteredCleanedTweetText'))\n",
    "dfSentimentScore.select('sentimentScore').show(truncate = False)"
   ]
  },
  {
   "cell_type": "code",
   "execution_count": 19,
   "id": "8334294c",
   "metadata": {},
   "outputs": [
    {
     "name": "stdout",
     "output_type": "stream",
     "text": [
      "+------------------------+--------------+---------+\n",
      "|filteredCleanedTweetText|sentimentScore|sentiment|\n",
      "+------------------------+--------------+---------+\n",
      "|    forgot play chatg...|        0.6486|        1|\n",
      "|     prohibition chat...|        0.4939|        1|\n",
      "|    check brings slop...|        0.2023|        1|\n",
      "|             bow chatgpt|           0.0|        0|\n",
      "|    first thing indiv...|        0.5083|        1|\n",
      "+------------------------+--------------+---------+\n",
      "only showing top 5 rows\n",
      "\n"
     ]
    }
   ],
   "source": [
    "udfSentiment = udf(getSentiment, IntegerType())\n",
    "dfSentiment = dfSentimentScore.withColumn('sentiment', udfSentiment('sentimentScore'))\n",
    "dfSentiment.select('filteredCleanedTweetText','sentimentScore','sentiment').show(5)"
   ]
  },
  {
   "cell_type": "code",
   "execution_count": null,
   "id": "ef0ec759",
   "metadata": {},
   "outputs": [],
   "source": [
    "dfSentiment.groupBy('sentiment').count().show()\n",
    "\n",
    "dfPlotVaderSentiment=dfSentiment.groupBy('sentiment').count().toPandas()\n",
    "dfPlotVaderSentiment"
   ]
  },
  {
   "cell_type": "code",
   "execution_count": null,
   "id": "4676c9c6",
   "metadata": {},
   "outputs": [],
   "source": [
    "dfCleanTweet.select('cleanTweetText').show(truncate =False)"
   ]
  },
  {
   "cell_type": "code",
   "execution_count": null,
   "id": "7163a0cd",
   "metadata": {},
   "outputs": [],
   "source": []
  },
  {
   "cell_type": "code",
   "execution_count": null,
   "id": "f4580869",
   "metadata": {},
   "outputs": [],
   "source": []
  }
 ],
 "metadata": {
  "kernelspec": {
   "display_name": "Python 3 (ipykernel)",
   "language": "python",
   "name": "python3"
  },
  "language_info": {
   "codemirror_mode": {
    "name": "ipython",
    "version": 3
   },
   "file_extension": ".py",
   "mimetype": "text/x-python",
   "name": "python",
   "nbconvert_exporter": "python",
   "pygments_lexer": "ipython3",
   "version": "3.9.7"
  }
 },
 "nbformat": 4,
 "nbformat_minor": 5
}
