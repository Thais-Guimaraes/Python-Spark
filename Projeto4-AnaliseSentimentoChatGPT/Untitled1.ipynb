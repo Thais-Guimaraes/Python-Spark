{
 "cells": [
  {
   "cell_type": "markdown",
   "id": "3a815d1a",
   "metadata": {},
   "source": [
    "Testes"
   ]
  },
  {
   "cell_type": "code",
   "execution_count": null,
   "id": "5af5606d",
   "metadata": {},
   "outputs": [],
   "source": [
    "dfSentimentScore.createTempView('thais')"
   ]
  },
  {
   "cell_type": "code",
   "execution_count": null,
   "id": "58e4bc10",
   "metadata": {},
   "outputs": [],
   "source": [
    "thaisDF = dfSentimentScore.toPandas()\n",
    "print(thaisDF)"
   ]
  },
  {
   "cell_type": "code",
   "execution_count": null,
   "id": "5b1952ef",
   "metadata": {},
   "outputs": [],
   "source": [
    "udfSentiment = udf(getSentiment, IntegerType())\n",
    "dfSentiment = dfSentimentScore.withColumn('sentiment', udfSentiment(col('sentimentScore')))\n",
    "dfSentiment.select('filteredCleanedTweetText','sentimentScore','sentiment').show(5)"
   ]
  },
  {
   "cell_type": "code",
   "execution_count": null,
   "id": "343df64a",
   "metadata": {},
   "outputs": [],
   "source": [
    "sentiment_analysis_udf = udf(perform_sentiment_analysis, StringType())"
   ]
  },
  {
   "cell_type": "code",
   "execution_count": null,
   "id": "955c0999",
   "metadata": {},
   "outputs": [],
   "source": [
    "result_df = df_result.withColumn(\"sentiment_score\", sentiment_analysis_udf(col(\"stop\")))\n"
   ]
  },
  {
   "cell_type": "code",
   "execution_count": null,
   "id": "a5d2d5ed",
   "metadata": {},
   "outputs": [],
   "source": [
    "result_df.select(col('stop')).show()"
   ]
  },
  {
   "cell_type": "code",
   "execution_count": null,
   "id": "0dfa304f",
   "metadata": {},
   "outputs": [],
   "source": [
    "type(result_df)"
   ]
  },
  {
   "cell_type": "code",
   "execution_count": null,
   "id": "5c72433e",
   "metadata": {},
   "outputs": [],
   "source": [
    "new_df = df_result.withColumn(\"stop\", analyzerSentiment(col('stop')))"
   ]
  },
  {
   "cell_type": "code",
   "execution_count": null,
   "id": "d2461943",
   "metadata": {},
   "outputs": [],
   "source": [
    "new_df = df_result.withColumn(\"stop\", analyzerSentiment(col('stop')))\n",
    "new_df.show()"
   ]
  },
  {
   "cell_type": "code",
   "execution_count": null,
   "id": "3b7d1158",
   "metadata": {},
   "outputs": [],
   "source": [
    "analyze_sentiment = udf(lambda text: int(sentiment_analyzer.polarity_scores(text)[\"pos\"] >\n",
    "0.5), IntegerType())"
   ]
  },
  {
   "cell_type": "code",
   "execution_count": null,
   "id": "9657c9c8",
   "metadata": {},
   "outputs": [],
   "source": [
    "analyze_sentiment"
   ]
  },
  {
   "cell_type": "code",
   "execution_count": null,
   "id": "821a2da9",
   "metadata": {},
   "outputs": [],
   "source": [
    "#@udf\n",
    "#def to_upper(text):\n",
    "#    return text.upper()\n",
    "\n",
    "#new_df = sdf.withColumn(\"name\", to_upper(col('name')))\n",
    "#new_df.show()\n",
    "\n",
    "for col_name in df_result.columns:\n",
    "    new_df = df_result = df_result.withColumn(col_name, analyzerSentiment(col(col_name)))"
   ]
  },
  {
   "cell_type": "code",
   "execution_count": null,
   "id": "0d285202",
   "metadata": {},
   "outputs": [],
   "source": [
    "new_df.select(col('stop')).show()"
   ]
  },
  {
   "cell_type": "code",
   "execution_count": null,
   "id": "5a556605",
   "metadata": {},
   "outputs": [],
   "source": [
    "df_result.mapInArrow(analyzer.polarity_scores,df_result.schema).show()"
   ]
  },
  {
   "cell_type": "code",
   "execution_count": null,
   "id": "6f9a29ca",
   "metadata": {},
   "outputs": [],
   "source": [
    "scores.toPandas()"
   ]
  },
  {
   "cell_type": "code",
   "execution_count": null,
   "id": "be5b845c",
   "metadata": {},
   "outputs": [],
   "source": [
    "# review = \"With all this stuff going down at the moment with MJ i've started listening to his music, watching the odd documentary here and there, watched The Wiz and watched Moonwalker again. Maybe i just want to get a certain insight into this guy who i thought was really cool in the eighties just to maybe make up my mind whether he is guilty or innocent.\"\n",
    "scores = analyzer.polarity_scores(df_result)\n",
    "print(scores)"
   ]
  },
  {
   "cell_type": "code",
   "execution_count": null,
   "id": "8bd1de50",
   "metadata": {},
   "outputs": [],
   "source": [
    "def cleanTweet(txt):\n",
    "    '''\n",
    "    Remove twitter return handles (RT @xxx:)\n",
    "    '''\n",
    "    txt = removePattern(txt, 'RT @[\\w]*:')\n",
    "    '''\n",
    "    Remove twitter handles (@xxx)\n",
    "    '''\n",
    "    txt = removePattern(txt, '@[\\w]*')\n",
    "    '''\n",
    "    Remove URL links (httpxxx)\n",
    "    '''\n",
    "    txt = removePattern(txt, 'https?://[A-Za-z0-9./]*')\n",
    "    '''\n",
    "    Remove special characters, numbers, punctuations\n",
    "    '''\n",
    "    txt = re.sub('[^A-Za-z]+', ' ', txt)\n",
    "    return txt"
   ]
  },
  {
   "cell_type": "code",
   "execution_count": null,
   "id": "6321e225",
   "metadata": {},
   "outputs": [],
   "source": [
    "tweet_v1 = result2.withColumn(\"stop\", F.regexp_replace(\"stop\", r\"RT @[\\w]*:\", \"\"))\n",
    "tweet_v2 = result2.withColumn(\"stop\", F.regexp_replace(\"stop\", r\"@[\\w]*\", \"\"))\n",
    "tweet_final = result2.withColumn(\"stop\", F.regexp_replace(\"stop\", r\"https?://[A-Za-z0-9./]\", \"\"))\n"
   ]
  },
  {
   "cell_type": "code",
   "execution_count": null,
   "id": "7aceb9ea",
   "metadata": {},
   "outputs": [],
   "source": [
    "result2.select(col('stop')).show(truncate = False)"
   ]
  },
  {
   "cell_type": "code",
   "execution_count": null,
   "id": "044c72bb",
   "metadata": {},
   "outputs": [],
   "source": [
    "result2_v2.select(col('stop')).show(truncate = False)"
   ]
  },
  {
   "cell_type": "code",
   "execution_count": null,
   "id": "4e186f3f",
   "metadata": {},
   "outputs": [],
   "source": [
    "def removePattern(inputText, pattern):\n",
    "    r = re.findall(pattern, inputText)\n",
    "    for i in r:\n",
    "        inputText = re.sub(i, '', inputText)        \n",
    "    return inputText\n",
    "\n",
    "def cleanTweet(txt):\n",
    "    '''\n",
    "    Remove twitter return handles (RT @xxx:)\n",
    "    '''\n",
    "    txt = removePattern(txt, 'RT @[\\w]*:')\n",
    "    '''\n",
    "    Remove twitter handles (@xxx)\n",
    "    '''\n",
    "    txt = removePattern(txt, '@[\\w]*')\n",
    "    '''\n",
    "    Remove URL links (httpxxx)\n",
    "    '''\n",
    "    txt = removePattern(txt, 'https?://[A-Za-z0-9./]*')\n",
    "    '''\n",
    "    Remove special characters, numbers, punctuations\n",
    "    '''\n",
    "    txt = re.sub('[^A-Za-z]+', ' ', txt)\n",
    "    return txt\n",
    "\n",
    "def getCleanTweetText(filteredTweetText):\n",
    "    return ' '.join(filteredTweetText)\n",
    "\n",
    "def getSentimentScore(tweetText):\n",
    "    analyzer = SentimentIntensityAnalyzer()\n",
    "    vs = analyzer.polarity_scores(tweetText)\n",
    "    return float(vs['compound'])\n",
    "\n",
    "def getSentiment(score):\n",
    "    return 1 if score > 0 else 0\n",
    "\n",
    "\n",
    "def getTweetArray(tweet):\n",
    "    return tweet.split(' ')"
   ]
  },
  {
   "cell_type": "code",
   "execution_count": null,
   "id": "feccfe1c",
   "metadata": {},
   "outputs": [],
   "source": [
    "dados2 = (spSession.read\n",
    "      .option(\"multiline\", \"true\") # alguns registros estão em mais de uma linha\n",
    "      .option(\"quote\", '\"') # informando que temos as aspas para separar o texto (q tem virgula dentro) para nao impactar o delimitador\n",
    "      .option(\"header\", \"true\") \n",
    "      #.option(\"mode\", \"DROPMALFORMED\")\n",
    "      .option(\"escape\", '\"') # separando caracteres especiais\n",
    "      .csv('dados/pandas_v2.csv')\n",
    ")"
   ]
  },
  {
   "cell_type": "code",
   "execution_count": null,
   "id": "1ed0a3c3",
   "metadata": {},
   "outputs": [],
   "source": [
    "udfCleanTweet = udf(cleanTweet, StringType())\n",
    "dfCleanTweet= dados2.withColumn('cleanTweetText', udfCleanTweet('text'))\n",
    "dfCleanTweet.select('text','cleanTweetText').show(5)"
   ]
  },
  {
   "cell_type": "code",
   "execution_count": null,
   "id": "68f78241",
   "metadata": {},
   "outputs": [],
   "source": [
    "tokenizer = Tokenizer(inputCol='cleanTweetText', outputCol='words')\n",
    "dfCleanTweetTokenized = tokenizer.transform(dfCleanTweet)\n",
    "dfCleanTweetTokenized.select('text','cleanTweetText','words').show(5)"
   ]
  },
  {
   "cell_type": "code",
   "execution_count": null,
   "id": "922d3a87",
   "metadata": {},
   "outputs": [],
   "source": [
    "remover = StopWordsRemover(inputCol='words', outputCol='filteredTweetText')\n",
    "dfStopwordRemoved=remover.transform(dfCleanTweetTokenized)\n",
    "dfStopwordRemoved.select('text','cleanTweetText','words','filteredTweetText').show(truncate = False)"
   ]
  },
  {
   "cell_type": "code",
   "execution_count": null,
   "id": "af8eb8e5",
   "metadata": {},
   "outputs": [],
   "source": [
    "dfStopwordRemoved.select('filteredTweetText').show(truncate = False)"
   ]
  },
  {
   "cell_type": "code",
   "execution_count": null,
   "id": "f8d52340",
   "metadata": {},
   "outputs": [],
   "source": [
    "udfCleanTweetText = udf(getCleanTweetText, StringType())\n",
    "dfFilteredCleanedTweet = dfStopwordRemoved.withColumn('filteredCleanedTweetText', udfCleanTweetText('filteredTweetText'))\n",
    "dfFilteredCleanedTweet.select('filteredCleanedTweetText').show(5)"
   ]
  },
  {
   "cell_type": "code",
   "execution_count": null,
   "id": "20f43797",
   "metadata": {},
   "outputs": [],
   "source": [
    "udfSentimentScore = udf(getSentimentScore, FloatType())\n",
    "dfSentimentScore = dfFilteredCleanedTweet.withColumn('sentimentScore', udfSentimentScore('filteredCleanedTweetText'))\n",
    "dfSentimentScore.select('filteredCleanedTweetText','sentimentScore').show(5)"
   ]
  },
  {
   "cell_type": "code",
   "execution_count": null,
   "id": "1f547090",
   "metadata": {},
   "outputs": [],
   "source": [
    "udfSentiment = udf(getSentiment, IntegerType())\n",
    "dfSentiment = dfSentimentScore.withColumn('sentiment', udfSentiment('sentimentScore'))\n",
    "dfSentiment.select('filteredCleanedTweetText','sentimentScore','sentiment').show(5)"
   ]
  },
  {
   "cell_type": "code",
   "execution_count": null,
   "id": "0192047b",
   "metadata": {},
   "outputs": [],
   "source": [
    "dfSentiment.groupBy('sentiment').count().show()\n",
    "\n",
    "dfPlotVaderSentiment=dfSentiment.groupBy('sentiment').count().toPandas()\n",
    "dfPlotVaderSentiment"
   ]
  },
  {
   "cell_type": "code",
   "execution_count": null,
   "id": "1444895b",
   "metadata": {},
   "outputs": [],
   "source": []
  },
  {
   "cell_type": "code",
   "execution_count": null,
   "id": "ee7b473c",
   "metadata": {},
   "outputs": [],
   "source": []
  }
 ],
 "metadata": {
  "kernelspec": {
   "display_name": "Python 3 (ipykernel)",
   "language": "python",
   "name": "python3"
  },
  "language_info": {
   "codemirror_mode": {
    "name": "ipython",
    "version": 3
   },
   "file_extension": ".py",
   "mimetype": "text/x-python",
   "name": "python",
   "nbconvert_exporter": "python",
   "pygments_lexer": "ipython3",
   "version": "3.9.7"
  }
 },
 "nbformat": 4,
 "nbformat_minor": 5
}
