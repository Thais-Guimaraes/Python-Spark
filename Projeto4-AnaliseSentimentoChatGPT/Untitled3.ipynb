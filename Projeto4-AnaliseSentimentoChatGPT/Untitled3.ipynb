{
 "cells": [
  {
   "cell_type": "markdown",
   "id": "00497929",
   "metadata": {},
   "source": [
    "testar se com spark é mais rapido"
   ]
  },
  {
   "cell_type": "code",
   "execution_count": null,
   "id": "e3ff99f2",
   "metadata": {},
   "outputs": [],
   "source": [
    "spark_teste = spSession.createDataFrame(pandas_text)"
   ]
  },
  {
   "cell_type": "code",
   "execution_count": null,
   "id": "581f38bb",
   "metadata": {},
   "outputs": [],
   "source": [
    "spark_teste.show()"
   ]
  },
  {
   "cell_type": "code",
   "execution_count": null,
   "id": "bf8ee08e",
   "metadata": {},
   "outputs": [],
   "source": [
    "spark_teste_rdd = spark_teste.rdd"
   ]
  },
  {
   "cell_type": "code",
   "execution_count": null,
   "id": "952881ff",
   "metadata": {},
   "outputs": [],
   "source": []
  },
  {
   "cell_type": "code",
   "execution_count": null,
   "id": "5e29edf4",
   "metadata": {},
   "outputs": [],
   "source": []
  },
  {
   "cell_type": "code",
   "execution_count": null,
   "id": "e5a28b3d",
   "metadata": {},
   "outputs": [],
   "source": []
  },
  {
   "cell_type": "code",
   "execution_count": null,
   "id": "5bcd8fb0",
   "metadata": {},
   "outputs": [],
   "source": []
  }
 ],
 "metadata": {
  "kernelspec": {
   "display_name": "Python 3 (ipykernel)",
   "language": "python",
   "name": "python3"
  },
  "language_info": {
   "codemirror_mode": {
    "name": "ipython",
    "version": 3
   },
   "file_extension": ".py",
   "mimetype": "text/x-python",
   "name": "python",
   "nbconvert_exporter": "python",
   "pygments_lexer": "ipython3",
   "version": "3.9.7"
  }
 },
 "nbformat": 4,
 "nbformat_minor": 5
}
